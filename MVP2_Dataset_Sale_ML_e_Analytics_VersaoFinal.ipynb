{
  "nbformat": 4,
  "nbformat_minor": 0,
  "metadata": {
    "colab": {
      "provenance": [],
      "collapsed_sections": [
        "MHRKK0YmCmUw",
        "3_ERHJAPEZAt",
        "UOSAwBz0GOAM"
      ]
    },
    "kernelspec": {
      "name": "python3",
      "display_name": "Python 3"
    },
    "language_info": {
      "name": "python"
    }
  },
  "cells": [
    {
      "cell_type": "markdown",
      "metadata": {
        "id": "view-in-github"
      },
      "source": [
        "<a href=\"https://colab.research.google.com/github/marcelegv/ML_Analytics/blob/main/MVP2_Dataset_Sale_ML_e_Analytics_VersaoFinal.ipynb\" target=\"_parent\"><img src=\"https://colab.research.google.com/assets/colab-badge.svg\" alt=\"Open In Colab\"/></a>"
      ]
    },
    {
      "cell_type": "code",
      "source": [
        "from google.colab import drive\n",
        "drive.mount('/content/drive')"
      ],
      "metadata": {
        "colab": {
          "base_uri": "https://localhost:8080/"
        },
        "id": "kW0_uin4MVo5",
        "outputId": "35964f6f-dba7-4324-c616-adfda217e94f"
      },
      "execution_count": 1,
      "outputs": [
        {
          "output_type": "stream",
          "name": "stdout",
          "text": [
            "Mounted at /content/drive\n"
          ]
        }
      ]
    },
    {
      "cell_type": "markdown",
      "source": [
        "# MVP Machine Learning e Analytics\n",
        "\n",
        "**Nome:** Marcele Garcez Veiga\n",
        "\n",
        "**Matrícula:** 4052025000206\n",
        "\n",
        "**Dataset:** [Estatísticas de Vendas 2023](https://www.kaggle.com/datasets/sahilislam007/sales-dataset/data)\n",
        "\n"
      ],
      "metadata": {
        "id": "cmYX3PLx58Jg"
      }
    },
    {
      "cell_type": "markdown",
      "source": [
        "# 1. Escopo, Objetivo e Definição do Problema"
      ],
      "metadata": {
        "id": "aa5T-lcJfRKG"
      }
    },
    {
      "cell_type": "markdown",
      "source": [
        "## Objetivo\n",
        "\n",
        "O objetivo deste projeto é desenvolver e avaliar um **modelo de Machine Learning de regressão para prever as vendas mensais** de uma empresa de varejo e tecnologia.\n",
        "\n",
        "O modelo, treinado com dados de transações de 2023, servirá como um protótipo para auxiliar a gestão da empresa no planejamento estratégico, otimizando a alocação de recursos, melhorando o fluxo de caixa e embasando a tomada de decisões."
      ],
      "metadata": {
        "id": "lW_SlPJsZpwH"
      }
    },
    {
      "cell_type": "markdown",
      "source": [
        "## Descrição do Problema\n",
        "\n",
        "O problema consiste em utilizar um conjunto de dados multivariado, que registra as compras de clientes ao longo do ano de 2023, para estimar a quantidade total de vendas em cada mês. O dataset contém informações cruciais sobre o cliente (idade, gênero) e a transação (data, categoria do produto, quantidade, preço por unidade e quantidade total gasta).\n",
        "\n",
        "O dataset escolhido foi selecionado da plataforma Kaggle, que consiste em uma plataforma online que oferece ferramentas e recursos para aprender, compartilhar, competir e colaborar na área da ciência de dados.\n",
        "Não é necessária uma etapa de seleção de dados externa, pois o dataset já está curado e pronto para uso."
      ],
      "metadata": {
        "id": "lVQ9ZuNCypLd"
      }
    },
    {
      "cell_type": "markdown",
      "source": [
        "## Área de Aplicação\n",
        "\n",
        "A área de aplicação do problema é a de **dados tabulares**. O conjunto de dados se enquadra nessa categoria por ser organizado em uma estrutura de linhas e colunas, similar a uma planilha. Nesse formato, cada linha representa uma transação de venda única, e cada coluna corresponde a um atributo específico, como a data, o gênero do cliente ou a quantidade total gasta.\n",
        "\n",
        "Portanto, o problema de previsão de vendas é resolvido a partir de um formato de dados bem definido, organizado e relacional, que é a base para a maioria das análises de negócios."
      ],
      "metadata": {
        "id": "W0FbYVtP-x34"
      }
    },
    {
      "cell_type": "markdown",
      "source": [
        "## Valor para o negócio/usuário\n",
        "\n",
        "O projeto apresentado transforma a maneira como a empresa de varejo gerencia suas operações e toma decisões. Em vez de depender de intuição ou métodos tradicionais de previsão, a empresa ganha uma ferramenta analítica baseada em dados que oferece uma visão mais precisa do futuro.\n",
        "\n",
        "Desta forma, agrega valor à medida que melhora o Planejamento Estratégico, otimiza a gestão de recursos, melhoria no fluxo de caixa e fortalece a cultura data-driven na empresa.\n",
        "\n",
        "Assim, este projeto transforma um problema complexo e incerto em uma oportunidade para obter uma vantagem competitiva, usando a análise preditiva para orientar as ações da empresa e garantir um crescimento mais sustentável e inteligente."
      ],
      "metadata": {
        "id": "bgafzHyyARfw"
      }
    },
    {
      "cell_type": "markdown",
      "source": [
        "## Premissas e Hipóteses\n",
        "\n",
        "As variáveis fornecidas no dataset são suficientes para capturar as dinâmicas de vendas mensais uma vez que cobrem os principais aspectos que influenciam o comportamento de vendas em um cenário de varejo.\n",
        "\n",
        "O dataset está livre de erros significativos e valores duplicados que possam comprometer a análise, e **os valores faltantes existentes serão tratados no decorrer da análise e não invalidarão o modelo**.\n",
        "\n",
        "A amostra de dados é representativa o suficiente para generalizar os padrões de compra observados para outras transações. Logo, os padrões observados se aplicam a outras transações não incluídas na amostra.\n",
        "\n",
        "O comportamento de compra e as tendências de vendas observados em 2023 se manterão relevantes no futuro próximo, permitindo que o modelo treinado com dados de 2023 seja utilizado para fazer previsões futuras, o que garante uma consistência temporal sobre os dados utilizados."
      ],
      "metadata": {
        "id": "n72i3m-E0WPf"
      }
    },
    {
      "cell_type": "markdown",
      "source": [
        "## Atributos do Dataset\n",
        "\n",
        "O dataset Sales contém 1000 amostras, com sete atributos, distribuídos da seguinte forma:\n",
        "\n",
        "- ***Data*** (data da transação)\n",
        "- ***Gênero*** (gênero do cliente: masculino ou feminino)\n",
        "- ***Idade*** (idade do cliente no momento da compra)\n",
        "- ***Categoria do Produto*** (categoria do item comprado)\n",
        "- ***Quantidade*** (número de unidades compradas na transação)\n",
        "- ***Preço por unidade*** (custo de um item na categoria selecionada)\n",
        "- ***Quantidade total*** (Valor total gasto (Quantidade x Preço por Unidade))"
      ],
      "metadata": {
        "id": "FC6QJHhWBnzH"
      }
    },
    {
      "cell_type": "markdown",
      "source": [
        "# 2. Reprodutibilidade e ambiente\n",
        "\n",
        "Esta seção consolida todas as importações de bibliotecas necessárias para a análise, visualização.\n",
        "\n",
        "Nela também será definida uma seed para reprodutibilidade, garantindo que o resultado seja o mesmo a cada execução."
      ],
      "metadata": {
        "id": "DObGnkf0bJBh"
      }
    },
    {
      "cell_type": "markdown",
      "source": [
        "### 2.1 Dependências\n",
        "\n",
        "Instalação de pacotes extras através do gerenciador de pacotes do Python."
      ],
      "metadata": {
        "id": "vV3Vt3f-VWDB"
      }
    },
    {
      "cell_type": "code",
      "source": [
        "!pip install xgboost\n",
        "!pip install lightgbm"
      ],
      "metadata": {
        "colab": {
          "base_uri": "https://localhost:8080/"
        },
        "id": "h7ULx92bWJ3P",
        "outputId": "7e6e9fff-8b93-4699-ef21-c99cb5b9596b"
      },
      "execution_count": 2,
      "outputs": [
        {
          "output_type": "stream",
          "name": "stdout",
          "text": [
            "Requirement already satisfied: xgboost in /usr/local/lib/python3.12/dist-packages (3.0.5)\n",
            "Requirement already satisfied: numpy in /usr/local/lib/python3.12/dist-packages (from xgboost) (2.0.2)\n",
            "Requirement already satisfied: nvidia-nccl-cu12 in /usr/local/lib/python3.12/dist-packages (from xgboost) (2.27.3)\n",
            "Requirement already satisfied: scipy in /usr/local/lib/python3.12/dist-packages (from xgboost) (1.16.2)\n",
            "Requirement already satisfied: lightgbm in /usr/local/lib/python3.12/dist-packages (4.6.0)\n",
            "Requirement already satisfied: numpy>=1.17.0 in /usr/local/lib/python3.12/dist-packages (from lightgbm) (2.0.2)\n",
            "Requirement already satisfied: scipy in /usr/local/lib/python3.12/dist-packages (from lightgbm) (1.16.2)\n"
          ]
        }
      ]
    },
    {
      "cell_type": "markdown",
      "source": [
        "### 2.2 Importações de Bibliotecas Utilizadas"
      ],
      "metadata": {
        "id": "zoKKmLk2Ai7f"
      }
    },
    {
      "cell_type": "code",
      "source": [
        "# Manipulação e Análise de Dados\n",
        "import pandas as pd\n",
        "import numpy as np\n",
        "\n",
        "# Visualização de Dados\n",
        "import matplotlib.pyplot as plt\n",
        "import seaborn as sns\n",
        "\n",
        "# Tratamento do tempo de execução dos modelos utilizados\n",
        "import time\n",
        "\n",
        "# Aprendizado de Máquina\n",
        "from sklearn.compose import ColumnTransformer\n",
        "from sklearn.preprocessing import OneHotEncoder, StandardScaler\n",
        "from sklearn.impute import SimpleImputer\n",
        "from sklearn.model_selection import GridSearchCV\n",
        "from sklearn.model_selection import train_test_split\n",
        "from sklearn.model_selection import RandomizedSearchCV, TimeSeriesSplit\n",
        "from sklearn.base import BaseEstimator, TransformerMixin\n",
        "from sklearn.pipeline import Pipeline\n",
        "from sklearn.linear_model import LinearRegression\n",
        "from sklearn.tree import DecisionTreeRegressor\n",
        "from sklearn.ensemble import RandomForestRegressor\n",
        "from sklearn.metrics import accuracy_score, f1_score, roc_auc_score, mean_squared_error, r2_score\n",
        "from sklearn.dummy import DummyRegressor # Importação do modelo DummyRegressor para a etapa 6. Baseline\n",
        "import xgboost as xgb\n",
        "import lightgbm as lgb\n",
        "\n",
        "# Computação Científica e Técnica\n",
        "from scipy.stats import randint\n",
        "\n",
        "# Impedindo a exibição de warnings\n",
        "import warnings\n",
        "warnings.filterwarnings(\"ignore\")\n",
        "\n",
        "# Fixando a seed para reprodutibilidade\n",
        "# O trecho assegura que, independentemente de quando ou onde o notebook for executado, os resultados serão sempre os mesmos.\n",
        "SEED = 42\n",
        "np.random.seed(SEED)\n"
      ],
      "metadata": {
        "id": "XjTZeRT9EFvj"
      },
      "execution_count": 3,
      "outputs": []
    },
    {
      "cell_type": "markdown",
      "source": [
        "### 2.3 Criação das funções Python\n",
        "\n",
        "Esta seção consolida todas as funções necessárias para a análise, visualização e pré-processamento dos dados, bem como os parâmetros para sua utilização."
      ],
      "metadata": {
        "id": "M7DHuW5X7qbO"
      }
    },
    {
      "cell_type": "code",
      "source": [
        "def define_titulo_eixos(t,x,y):\n",
        "    # Adiciona títulos e rótulos aos gráficos que serão criados\n",
        "    # Parâmetros: Título do Gráfico, Rótulo do eixo X e Rótulo do eixo Y\n",
        "    plt.title(t, fontsize=16)\n",
        "    plt.xlabel(x, fontsize = 12)\n",
        "    plt.ylabel(y, fontsize = 12)\n",
        "\n",
        "def finalizar_e_salvar_grafico(nome_arquivo):\n",
        "    #Ajusta o layout do gráfico, salva em um arquivo e o exibe.\n",
        "    #Argumentos: nome_arquivo (str): O nome do arquivo para salvar o gráfico.\n",
        "\n",
        "    plt.tight_layout()  # Ajusta o layout para evitar sobreposição\n",
        "    plt.savefig(nome_arquivo) # Salva o gráfico com o nome especificado\n",
        "    plt.show() # Exibe o gráfico"
      ],
      "metadata": {
        "id": "2me5O5m-8Mbs"
      },
      "execution_count": 4,
      "outputs": []
    },
    {
      "cell_type": "markdown",
      "source": [
        "### 2.4 Criando um transformador customizado para datas"
      ],
      "metadata": {
        "id": "_kAQz3Yrlr2X"
      }
    },
    {
      "cell_type": "code",
      "source": [
        "# Herda de BaseEstimator e TransformerMixin para ser compatível com o scikit-learn\n",
        "class DateFeatureExtractor(BaseEstimator, TransformerMixin):\n",
        "    def __init__(self, date_col):\n",
        "        self.date_col = date_col\n",
        "\n",
        "    # O método fit() não faz nada aqui, mas é necessário para a compatibilidade do pipeline\n",
        "    def fit(self, X, y=None):\n",
        "        return self\n",
        "\n",
        "    # O método transform() extrai as features da coluna de data\n",
        "    def transform(self, X):\n",
        "        X_copy = X.copy()\n",
        "\n",
        "        # Converte a coluna de data para o tipo datetime\n",
        "        X_copy[self.date_col] = pd.to_datetime(X_copy[self.date_col])\n",
        "\n",
        "        # Extrai features de tempo\n",
        "        X_copy['Month'] = X_copy[self.date_col].dt.month\n",
        "        X_copy['DayOfWeek'] = X_copy[self.date_col].dt.dayofweek\n",
        "        X_copy['DayOfMonth'] = X_copy[self.date_col].dt.day\n",
        "        X_copy['IsWeekend'] = X_copy[self.date_col].dt.weekday.isin([5, 6]).astype(int)\n",
        "\n",
        "        # Remove a coluna de data original\n",
        "        X_copy = X_copy.drop(columns=[self.date_col])\n",
        "        return X_copy\n"
      ],
      "metadata": {
        "id": "UhNMzpKolxyT"
      },
      "execution_count": 5,
      "outputs": []
    },
    {
      "cell_type": "markdown",
      "source": [
        "# 3. Dados: carga, entendimento e qualidade\n",
        "\n"
      ],
      "metadata": {
        "id": "ukEh04yt8gYy"
      }
    },
    {
      "cell_type": "markdown",
      "source": [
        "## 3.1 Carga de Dados\n",
        "\n",
        "Nesta seção, realizaremos o carregamento inicial do dataset Sales a partir da leitura de um arquivo no formato CSV e exibiremos uma mensagem de acordo com o status do carregamento, bem como as primeiras linhas em caso de sucesso."
      ],
      "metadata": {
        "id": "jYqaADjQN2Vs"
      }
    },
    {
      "cell_type": "code",
      "source": [
        "try:\n",
        "  vd = pd.read_csv('https://raw.githubusercontent.com/marcelegv/AnaliseExploratoria/refs/heads/main/Sales_Dataset.csv')\n",
        "  print(\"Dataset Vendas carregado com sucesso!\")\n",
        "\n",
        "  if not vd.empty: # Verifica se o DataFrame não está vazio\n",
        "    print(\"\\n--- Exibindo as primeiras 5 linhas do Dataset Vendas ---\")\n",
        "    # Renomeando a primeira coluna, sem alterar o arquivo original\n",
        "    vd = vd.rename(columns={vd.columns[0]: 'Sale Number'})\n",
        "\n",
        "    # Converte a coluna 'Data' para o tipo datetime\n",
        "    vd['Date'] = pd.to_datetime(vd['Date'])\n",
        "\n",
        "    # Criando uma cópia do DataFrame original recém-carregado\n",
        "    vd_original = vd.copy()\n",
        "\n",
        "    # Ordenando por data\n",
        "    vd = vd.sort_values(by='Date', ascending=True)\n",
        "\n",
        "    display(vd.head())\n",
        "  else:\n",
        "    print(\"\\n--- Não há informações sobre vendas disponíveis! ---\")\n",
        "except FileNotFoundError:\n",
        "    print(\"Erro: O arquivo 'Sales_Dataset.csv' não foi encontrado. Verifique o nome e o caminho do arquivo.\")\n",
        "except Exception as e:\n",
        "    print(f\"Ocorreu um erro ao carregar o dataset: {e}\")"
      ],
      "metadata": {
        "id": "BIokzI3xb8_t",
        "colab": {
          "base_uri": "https://localhost:8080/",
          "height": 258
        },
        "outputId": "8d0a3be8-ae93-4904-f91b-6586331cb349"
      },
      "execution_count": 6,
      "outputs": [
        {
          "output_type": "stream",
          "name": "stdout",
          "text": [
            "Dataset Vendas carregado com sucesso!\n",
            "\n",
            "--- Exibindo as primeiras 5 linhas do Dataset Vendas ---\n"
          ]
        },
        {
          "output_type": "display_data",
          "data": {
            "text/plain": [
              "     Sale Number       Date  Gender   Age Product Category  Quantity  \\\n",
              "521          521 2023-01-01    Male   NaN           Beauty         3   \n",
              "179          179 2023-01-01    Male  41.0         Clothing         3   \n",
              "558          558 2023-01-01  Female  40.0         Clothing         4   \n",
              "302          302 2023-01-02     NaN  19.0      Electronics         3   \n",
              "978          978 2023-01-02  Female  19.0           Beauty         1   \n",
              "\n",
              "     Price per Unit  Total Amount  \n",
              "521             500          1500  \n",
              "179             300           900  \n",
              "558             300          1200  \n",
              "302              30            90  \n",
              "978              25            25  "
            ],
            "text/html": [
              "\n",
              "  <div id=\"df-41c71a3a-952e-4c9e-863b-b5f13c88bc75\" class=\"colab-df-container\">\n",
              "    <div>\n",
              "<style scoped>\n",
              "    .dataframe tbody tr th:only-of-type {\n",
              "        vertical-align: middle;\n",
              "    }\n",
              "\n",
              "    .dataframe tbody tr th {\n",
              "        vertical-align: top;\n",
              "    }\n",
              "\n",
              "    .dataframe thead th {\n",
              "        text-align: right;\n",
              "    }\n",
              "</style>\n",
              "<table border=\"1\" class=\"dataframe\">\n",
              "  <thead>\n",
              "    <tr style=\"text-align: right;\">\n",
              "      <th></th>\n",
              "      <th>Sale Number</th>\n",
              "      <th>Date</th>\n",
              "      <th>Gender</th>\n",
              "      <th>Age</th>\n",
              "      <th>Product Category</th>\n",
              "      <th>Quantity</th>\n",
              "      <th>Price per Unit</th>\n",
              "      <th>Total Amount</th>\n",
              "    </tr>\n",
              "  </thead>\n",
              "  <tbody>\n",
              "    <tr>\n",
              "      <th>521</th>\n",
              "      <td>521</td>\n",
              "      <td>2023-01-01</td>\n",
              "      <td>Male</td>\n",
              "      <td>NaN</td>\n",
              "      <td>Beauty</td>\n",
              "      <td>3</td>\n",
              "      <td>500</td>\n",
              "      <td>1500</td>\n",
              "    </tr>\n",
              "    <tr>\n",
              "      <th>179</th>\n",
              "      <td>179</td>\n",
              "      <td>2023-01-01</td>\n",
              "      <td>Male</td>\n",
              "      <td>41.0</td>\n",
              "      <td>Clothing</td>\n",
              "      <td>3</td>\n",
              "      <td>300</td>\n",
              "      <td>900</td>\n",
              "    </tr>\n",
              "    <tr>\n",
              "      <th>558</th>\n",
              "      <td>558</td>\n",
              "      <td>2023-01-01</td>\n",
              "      <td>Female</td>\n",
              "      <td>40.0</td>\n",
              "      <td>Clothing</td>\n",
              "      <td>4</td>\n",
              "      <td>300</td>\n",
              "      <td>1200</td>\n",
              "    </tr>\n",
              "    <tr>\n",
              "      <th>302</th>\n",
              "      <td>302</td>\n",
              "      <td>2023-01-02</td>\n",
              "      <td>NaN</td>\n",
              "      <td>19.0</td>\n",
              "      <td>Electronics</td>\n",
              "      <td>3</td>\n",
              "      <td>30</td>\n",
              "      <td>90</td>\n",
              "    </tr>\n",
              "    <tr>\n",
              "      <th>978</th>\n",
              "      <td>978</td>\n",
              "      <td>2023-01-02</td>\n",
              "      <td>Female</td>\n",
              "      <td>19.0</td>\n",
              "      <td>Beauty</td>\n",
              "      <td>1</td>\n",
              "      <td>25</td>\n",
              "      <td>25</td>\n",
              "    </tr>\n",
              "  </tbody>\n",
              "</table>\n",
              "</div>\n",
              "    <div class=\"colab-df-buttons\">\n",
              "\n",
              "  <div class=\"colab-df-container\">\n",
              "    <button class=\"colab-df-convert\" onclick=\"convertToInteractive('df-41c71a3a-952e-4c9e-863b-b5f13c88bc75')\"\n",
              "            title=\"Convert this dataframe to an interactive table.\"\n",
              "            style=\"display:none;\">\n",
              "\n",
              "  <svg xmlns=\"http://www.w3.org/2000/svg\" height=\"24px\" viewBox=\"0 -960 960 960\">\n",
              "    <path d=\"M120-120v-720h720v720H120Zm60-500h600v-160H180v160Zm220 220h160v-160H400v160Zm0 220h160v-160H400v160ZM180-400h160v-160H180v160Zm440 0h160v-160H620v160ZM180-180h160v-160H180v160Zm440 0h160v-160H620v160Z\"/>\n",
              "  </svg>\n",
              "    </button>\n",
              "\n",
              "  <style>\n",
              "    .colab-df-container {\n",
              "      display:flex;\n",
              "      gap: 12px;\n",
              "    }\n",
              "\n",
              "    .colab-df-convert {\n",
              "      background-color: #E8F0FE;\n",
              "      border: none;\n",
              "      border-radius: 50%;\n",
              "      cursor: pointer;\n",
              "      display: none;\n",
              "      fill: #1967D2;\n",
              "      height: 32px;\n",
              "      padding: 0 0 0 0;\n",
              "      width: 32px;\n",
              "    }\n",
              "\n",
              "    .colab-df-convert:hover {\n",
              "      background-color: #E2EBFA;\n",
              "      box-shadow: 0px 1px 2px rgba(60, 64, 67, 0.3), 0px 1px 3px 1px rgba(60, 64, 67, 0.15);\n",
              "      fill: #174EA6;\n",
              "    }\n",
              "\n",
              "    .colab-df-buttons div {\n",
              "      margin-bottom: 4px;\n",
              "    }\n",
              "\n",
              "    [theme=dark] .colab-df-convert {\n",
              "      background-color: #3B4455;\n",
              "      fill: #D2E3FC;\n",
              "    }\n",
              "\n",
              "    [theme=dark] .colab-df-convert:hover {\n",
              "      background-color: #434B5C;\n",
              "      box-shadow: 0px 1px 3px 1px rgba(0, 0, 0, 0.15);\n",
              "      filter: drop-shadow(0px 1px 2px rgba(0, 0, 0, 0.3));\n",
              "      fill: #FFFFFF;\n",
              "    }\n",
              "  </style>\n",
              "\n",
              "    <script>\n",
              "      const buttonEl =\n",
              "        document.querySelector('#df-41c71a3a-952e-4c9e-863b-b5f13c88bc75 button.colab-df-convert');\n",
              "      buttonEl.style.display =\n",
              "        google.colab.kernel.accessAllowed ? 'block' : 'none';\n",
              "\n",
              "      async function convertToInteractive(key) {\n",
              "        const element = document.querySelector('#df-41c71a3a-952e-4c9e-863b-b5f13c88bc75');\n",
              "        const dataTable =\n",
              "          await google.colab.kernel.invokeFunction('convertToInteractive',\n",
              "                                                    [key], {});\n",
              "        if (!dataTable) return;\n",
              "\n",
              "        const docLinkHtml = 'Like what you see? Visit the ' +\n",
              "          '<a target=\"_blank\" href=https://colab.research.google.com/notebooks/data_table.ipynb>data table notebook</a>'\n",
              "          + ' to learn more about interactive tables.';\n",
              "        element.innerHTML = '';\n",
              "        dataTable['output_type'] = 'display_data';\n",
              "        await google.colab.output.renderOutput(dataTable, element);\n",
              "        const docLink = document.createElement('div');\n",
              "        docLink.innerHTML = docLinkHtml;\n",
              "        element.appendChild(docLink);\n",
              "      }\n",
              "    </script>\n",
              "  </div>\n",
              "\n",
              "\n",
              "    <div id=\"df-129578a7-e738-4d8e-93ca-99e6f70fcae8\">\n",
              "      <button class=\"colab-df-quickchart\" onclick=\"quickchart('df-129578a7-e738-4d8e-93ca-99e6f70fcae8')\"\n",
              "                title=\"Suggest charts\"\n",
              "                style=\"display:none;\">\n",
              "\n",
              "<svg xmlns=\"http://www.w3.org/2000/svg\" height=\"24px\"viewBox=\"0 0 24 24\"\n",
              "     width=\"24px\">\n",
              "    <g>\n",
              "        <path d=\"M19 3H5c-1.1 0-2 .9-2 2v14c0 1.1.9 2 2 2h14c1.1 0 2-.9 2-2V5c0-1.1-.9-2-2-2zM9 17H7v-7h2v7zm4 0h-2V7h2v10zm4 0h-2v-4h2v4z\"/>\n",
              "    </g>\n",
              "</svg>\n",
              "      </button>\n",
              "\n",
              "<style>\n",
              "  .colab-df-quickchart {\n",
              "      --bg-color: #E8F0FE;\n",
              "      --fill-color: #1967D2;\n",
              "      --hover-bg-color: #E2EBFA;\n",
              "      --hover-fill-color: #174EA6;\n",
              "      --disabled-fill-color: #AAA;\n",
              "      --disabled-bg-color: #DDD;\n",
              "  }\n",
              "\n",
              "  [theme=dark] .colab-df-quickchart {\n",
              "      --bg-color: #3B4455;\n",
              "      --fill-color: #D2E3FC;\n",
              "      --hover-bg-color: #434B5C;\n",
              "      --hover-fill-color: #FFFFFF;\n",
              "      --disabled-bg-color: #3B4455;\n",
              "      --disabled-fill-color: #666;\n",
              "  }\n",
              "\n",
              "  .colab-df-quickchart {\n",
              "    background-color: var(--bg-color);\n",
              "    border: none;\n",
              "    border-radius: 50%;\n",
              "    cursor: pointer;\n",
              "    display: none;\n",
              "    fill: var(--fill-color);\n",
              "    height: 32px;\n",
              "    padding: 0;\n",
              "    width: 32px;\n",
              "  }\n",
              "\n",
              "  .colab-df-quickchart:hover {\n",
              "    background-color: var(--hover-bg-color);\n",
              "    box-shadow: 0 1px 2px rgba(60, 64, 67, 0.3), 0 1px 3px 1px rgba(60, 64, 67, 0.15);\n",
              "    fill: var(--button-hover-fill-color);\n",
              "  }\n",
              "\n",
              "  .colab-df-quickchart-complete:disabled,\n",
              "  .colab-df-quickchart-complete:disabled:hover {\n",
              "    background-color: var(--disabled-bg-color);\n",
              "    fill: var(--disabled-fill-color);\n",
              "    box-shadow: none;\n",
              "  }\n",
              "\n",
              "  .colab-df-spinner {\n",
              "    border: 2px solid var(--fill-color);\n",
              "    border-color: transparent;\n",
              "    border-bottom-color: var(--fill-color);\n",
              "    animation:\n",
              "      spin 1s steps(1) infinite;\n",
              "  }\n",
              "\n",
              "  @keyframes spin {\n",
              "    0% {\n",
              "      border-color: transparent;\n",
              "      border-bottom-color: var(--fill-color);\n",
              "      border-left-color: var(--fill-color);\n",
              "    }\n",
              "    20% {\n",
              "      border-color: transparent;\n",
              "      border-left-color: var(--fill-color);\n",
              "      border-top-color: var(--fill-color);\n",
              "    }\n",
              "    30% {\n",
              "      border-color: transparent;\n",
              "      border-left-color: var(--fill-color);\n",
              "      border-top-color: var(--fill-color);\n",
              "      border-right-color: var(--fill-color);\n",
              "    }\n",
              "    40% {\n",
              "      border-color: transparent;\n",
              "      border-right-color: var(--fill-color);\n",
              "      border-top-color: var(--fill-color);\n",
              "    }\n",
              "    60% {\n",
              "      border-color: transparent;\n",
              "      border-right-color: var(--fill-color);\n",
              "    }\n",
              "    80% {\n",
              "      border-color: transparent;\n",
              "      border-right-color: var(--fill-color);\n",
              "      border-bottom-color: var(--fill-color);\n",
              "    }\n",
              "    90% {\n",
              "      border-color: transparent;\n",
              "      border-bottom-color: var(--fill-color);\n",
              "    }\n",
              "  }\n",
              "</style>\n",
              "\n",
              "      <script>\n",
              "        async function quickchart(key) {\n",
              "          const quickchartButtonEl =\n",
              "            document.querySelector('#' + key + ' button');\n",
              "          quickchartButtonEl.disabled = true;  // To prevent multiple clicks.\n",
              "          quickchartButtonEl.classList.add('colab-df-spinner');\n",
              "          try {\n",
              "            const charts = await google.colab.kernel.invokeFunction(\n",
              "                'suggestCharts', [key], {});\n",
              "          } catch (error) {\n",
              "            console.error('Error during call to suggestCharts:', error);\n",
              "          }\n",
              "          quickchartButtonEl.classList.remove('colab-df-spinner');\n",
              "          quickchartButtonEl.classList.add('colab-df-quickchart-complete');\n",
              "        }\n",
              "        (() => {\n",
              "          let quickchartButtonEl =\n",
              "            document.querySelector('#df-129578a7-e738-4d8e-93ca-99e6f70fcae8 button');\n",
              "          quickchartButtonEl.style.display =\n",
              "            google.colab.kernel.accessAllowed ? 'block' : 'none';\n",
              "        })();\n",
              "      </script>\n",
              "    </div>\n",
              "\n",
              "    </div>\n",
              "  </div>\n"
            ],
            "application/vnd.google.colaboratory.intrinsic+json": {
              "type": "dataframe",
              "summary": "{\n  \"name\": \"    print(f\\\"Ocorreu um erro ao carregar o dataset: {e}\\\")\",\n  \"rows\": 5,\n  \"fields\": [\n    {\n      \"column\": \"Sale Number\",\n      \"properties\": {\n        \"dtype\": \"number\",\n        \"std\": 305,\n        \"min\": 179,\n        \"max\": 978,\n        \"num_unique_values\": 5,\n        \"samples\": [\n          179,\n          978,\n          558\n        ],\n        \"semantic_type\": \"\",\n        \"description\": \"\"\n      }\n    },\n    {\n      \"column\": \"Date\",\n      \"properties\": {\n        \"dtype\": \"date\",\n        \"min\": \"2023-01-01 00:00:00\",\n        \"max\": \"2023-01-02 00:00:00\",\n        \"num_unique_values\": 2,\n        \"samples\": [\n          \"2023-01-02 00:00:00\",\n          \"2023-01-01 00:00:00\"\n        ],\n        \"semantic_type\": \"\",\n        \"description\": \"\"\n      }\n    },\n    {\n      \"column\": \"Gender\",\n      \"properties\": {\n        \"dtype\": \"category\",\n        \"num_unique_values\": 2,\n        \"samples\": [\n          \"Female\",\n          \"Male\"\n        ],\n        \"semantic_type\": \"\",\n        \"description\": \"\"\n      }\n    },\n    {\n      \"column\": \"Age\",\n      \"properties\": {\n        \"dtype\": \"number\",\n        \"std\": 12.419742348374221,\n        \"min\": 19.0,\n        \"max\": 41.0,\n        \"num_unique_values\": 3,\n        \"samples\": [\n          41.0,\n          40.0\n        ],\n        \"semantic_type\": \"\",\n        \"description\": \"\"\n      }\n    },\n    {\n      \"column\": \"Product Category\",\n      \"properties\": {\n        \"dtype\": \"string\",\n        \"num_unique_values\": 3,\n        \"samples\": [\n          \"Beauty\",\n          \"Clothing\"\n        ],\n        \"semantic_type\": \"\",\n        \"description\": \"\"\n      }\n    },\n    {\n      \"column\": \"Quantity\",\n      \"properties\": {\n        \"dtype\": \"number\",\n        \"std\": 1,\n        \"min\": 1,\n        \"max\": 4,\n        \"num_unique_values\": 3,\n        \"samples\": [\n          3,\n          4\n        ],\n        \"semantic_type\": \"\",\n        \"description\": \"\"\n      }\n    },\n    {\n      \"column\": \"Price per Unit\",\n      \"properties\": {\n        \"dtype\": \"number\",\n        \"std\": 202,\n        \"min\": 25,\n        \"max\": 500,\n        \"num_unique_values\": 4,\n        \"samples\": [\n          300,\n          25\n        ],\n        \"semantic_type\": \"\",\n        \"description\": \"\"\n      }\n    },\n    {\n      \"column\": \"Total Amount\",\n      \"properties\": {\n        \"dtype\": \"number\",\n        \"std\": 661,\n        \"min\": 25,\n        \"max\": 1500,\n        \"num_unique_values\": 5,\n        \"samples\": [\n          900,\n          25\n        ],\n        \"semantic_type\": \"\",\n        \"description\": \"\"\n      }\n    }\n  ]\n}"
            }
          },
          "metadata": {}
        }
      ]
    },
    {
      "cell_type": "markdown",
      "source": [
        "## 3.2 Verificações Iniciais\n",
        "\n",
        "Nesta seção, vamos analisar o formato do conjunto de dados, os tipos de atributos e valores ausentes no dataFrame."
      ],
      "metadata": {
        "id": "pJ4lDkuBOD2x"
      }
    },
    {
      "cell_type": "code",
      "source": [
        "# Verificações iniciais\n",
        "print(\"O formato do DataFrame vd (linhas, colunas) é:\", vd.shape)\n",
        "\n",
        "# Tipo de dados por coluna\n",
        "print(\"\\nTipos de dados por coluna:\")\n",
        "\n",
        "print(vd.info())\n",
        "\n",
        "# Verificando valores ausentes\n",
        "print(\"--- Verificando valores ausentes ---\")\n",
        "# Verificando se há dados faltando nas colunas específicas\n",
        "colunas_para_verificar = ['Date', 'Gender', 'Age', 'Product Category', 'Quantity', 'Price per Unit', 'Total Amount']\n",
        "\n",
        "print(\"Contagem de valores ausentes por coluna:\")\n",
        "display(vd[colunas_para_verificar].isnull().sum())"
      ],
      "metadata": {
        "colab": {
          "base_uri": "https://localhost:8080/",
          "height": 668
        },
        "id": "ZW-XwiokPHVs",
        "outputId": "9e809112-6737-415a-f1d8-1186b2b18977"
      },
      "execution_count": 7,
      "outputs": [
        {
          "output_type": "stream",
          "name": "stdout",
          "text": [
            "O formato do DataFrame vd (linhas, colunas) é: (1000, 8)\n",
            "\n",
            "Tipos de dados por coluna:\n",
            "<class 'pandas.core.frame.DataFrame'>\n",
            "Index: 1000 entries, 521 to 649\n",
            "Data columns (total 8 columns):\n",
            " #   Column            Non-Null Count  Dtype         \n",
            "---  ------            --------------  -----         \n",
            " 0   Sale Number       1000 non-null   int64         \n",
            " 1   Date              1000 non-null   datetime64[ns]\n",
            " 2   Gender            984 non-null    object        \n",
            " 3   Age               982 non-null    float64       \n",
            " 4   Product Category  1000 non-null   object        \n",
            " 5   Quantity          1000 non-null   int64         \n",
            " 6   Price per Unit    1000 non-null   int64         \n",
            " 7   Total Amount      1000 non-null   int64         \n",
            "dtypes: datetime64[ns](1), float64(1), int64(4), object(2)\n",
            "memory usage: 70.3+ KB\n",
            "None\n",
            "--- Verificando valores ausentes ---\n",
            "Contagem de valores ausentes por coluna:\n"
          ]
        },
        {
          "output_type": "display_data",
          "data": {
            "text/plain": [
              "Date                 0\n",
              "Gender              16\n",
              "Age                 18\n",
              "Product Category     0\n",
              "Quantity             0\n",
              "Price per Unit       0\n",
              "Total Amount         0\n",
              "dtype: int64"
            ],
            "text/html": [
              "<div>\n",
              "<style scoped>\n",
              "    .dataframe tbody tr th:only-of-type {\n",
              "        vertical-align: middle;\n",
              "    }\n",
              "\n",
              "    .dataframe tbody tr th {\n",
              "        vertical-align: top;\n",
              "    }\n",
              "\n",
              "    .dataframe thead th {\n",
              "        text-align: right;\n",
              "    }\n",
              "</style>\n",
              "<table border=\"1\" class=\"dataframe\">\n",
              "  <thead>\n",
              "    <tr style=\"text-align: right;\">\n",
              "      <th></th>\n",
              "      <th>0</th>\n",
              "    </tr>\n",
              "  </thead>\n",
              "  <tbody>\n",
              "    <tr>\n",
              "      <th>Date</th>\n",
              "      <td>0</td>\n",
              "    </tr>\n",
              "    <tr>\n",
              "      <th>Gender</th>\n",
              "      <td>16</td>\n",
              "    </tr>\n",
              "    <tr>\n",
              "      <th>Age</th>\n",
              "      <td>18</td>\n",
              "    </tr>\n",
              "    <tr>\n",
              "      <th>Product Category</th>\n",
              "      <td>0</td>\n",
              "    </tr>\n",
              "    <tr>\n",
              "      <th>Quantity</th>\n",
              "      <td>0</td>\n",
              "    </tr>\n",
              "    <tr>\n",
              "      <th>Price per Unit</th>\n",
              "      <td>0</td>\n",
              "    </tr>\n",
              "    <tr>\n",
              "      <th>Total Amount</th>\n",
              "      <td>0</td>\n",
              "    </tr>\n",
              "  </tbody>\n",
              "</table>\n",
              "</div><br><label><b>dtype:</b> int64</label>"
            ]
          },
          "metadata": {}
        }
      ]
    },
    {
      "cell_type": "markdown",
      "source": [
        "O dataset Sales possui 1000 instâncias. Há quatro características de medição que são de tipo numérico e 3 atributos categóricos, sendo eles Data (\"Date\"), Gênero(\"Gender\") e Categoria de Produtos(\"Product Category\").\n",
        "\n",
        "O dataset Sales possui valores nulos para uma variável quantitativa (Age) e uma variável categórica (Gender), como demonstrado. Nas próximas etapas, o tratamento de valores nulos será realizado com imputação (preenchimento com a mediana e com 'Não informado')."
      ],
      "metadata": {
        "id": "EH--JgG0V90K"
      }
    },
    {
      "cell_type": "markdown",
      "source": [
        "## 3.3 Definição de variáveis\n",
        "\n",
        "Esta etapa define todas as variáveis que serão utilizadas durante as Análises, Pré-processamento e Visualização dos dados."
      ],
      "metadata": {
        "id": "W9G_b0CG9NjW"
      }
    },
    {
      "cell_type": "code",
      "source": [
        "# Definição de Variáveis de Imputação\n",
        "empty_genero = 'Não informado'\n",
        "\n",
        "# Dicionário para armazenar os resultados de todos os modelos\n",
        "results = {}"
      ],
      "metadata": {
        "id": "YHGP1huB9puE"
      },
      "execution_count": 8,
      "outputs": []
    },
    {
      "cell_type": "markdown",
      "source": [
        "## 3.4 Análise exploratória resumida (EDA)"
      ],
      "metadata": {
        "id": "RDiEYy9SWt1i"
      }
    },
    {
      "cell_type": "markdown",
      "source": [
        "### 3.4.1 Resumo Estatístico das Variáveis Numéricas\n",
        "  \n",
        "Estatísticas descritivas fornecem um resumo das características numéricas, incluindo média, desvio padrão, mínimo, máximo e quartis."
      ],
      "metadata": {
        "id": "7pBxiJ7T8-h5"
      }
    },
    {
      "cell_type": "code",
      "source": [
        "# estatísticas descritivas básicas do dataset\n",
        "vd.describe()\n"
      ],
      "metadata": {
        "colab": {
          "base_uri": "https://localhost:8080/",
          "height": 300
        },
        "id": "WLvXA9eRcsld",
        "outputId": "3770537c-88b5-461e-8c6c-1ada5fa739d8"
      },
      "execution_count": 9,
      "outputs": [
        {
          "output_type": "execute_result",
          "data": {
            "text/plain": [
              "       Sale Number                           Date         Age     Quantity  \\\n",
              "count  1000.000000                           1000  982.000000  1000.000000   \n",
              "mean    499.500000  2023-07-03 00:25:55.200000256   41.427699     2.514000   \n",
              "min       0.000000            2023-01-01 00:00:00   18.000000     1.000000   \n",
              "25%     249.750000            2023-04-08 00:00:00   30.000000     1.000000   \n",
              "50%     499.500000            2023-06-29 12:00:00   42.000000     3.000000   \n",
              "75%     749.250000            2023-10-04 00:00:00   53.000000     4.000000   \n",
              "max     999.000000            2024-01-01 00:00:00   64.000000     4.000000   \n",
              "std     288.819436                            NaN   13.698157     1.132734   \n",
              "\n",
              "       Price per Unit  Total Amount  \n",
              "count     1000.000000   1000.000000  \n",
              "mean       179.890000    456.000000  \n",
              "min         25.000000     25.000000  \n",
              "25%         30.000000     60.000000  \n",
              "50%         50.000000    135.000000  \n",
              "75%        300.000000    900.000000  \n",
              "max        500.000000   2000.000000  \n",
              "std        189.681356    559.997632  "
            ],
            "text/html": [
              "\n",
              "  <div id=\"df-89cd885c-d7d7-4c34-a5dc-cd01c4d38f4a\" class=\"colab-df-container\">\n",
              "    <div>\n",
              "<style scoped>\n",
              "    .dataframe tbody tr th:only-of-type {\n",
              "        vertical-align: middle;\n",
              "    }\n",
              "\n",
              "    .dataframe tbody tr th {\n",
              "        vertical-align: top;\n",
              "    }\n",
              "\n",
              "    .dataframe thead th {\n",
              "        text-align: right;\n",
              "    }\n",
              "</style>\n",
              "<table border=\"1\" class=\"dataframe\">\n",
              "  <thead>\n",
              "    <tr style=\"text-align: right;\">\n",
              "      <th></th>\n",
              "      <th>Sale Number</th>\n",
              "      <th>Date</th>\n",
              "      <th>Age</th>\n",
              "      <th>Quantity</th>\n",
              "      <th>Price per Unit</th>\n",
              "      <th>Total Amount</th>\n",
              "    </tr>\n",
              "  </thead>\n",
              "  <tbody>\n",
              "    <tr>\n",
              "      <th>count</th>\n",
              "      <td>1000.000000</td>\n",
              "      <td>1000</td>\n",
              "      <td>982.000000</td>\n",
              "      <td>1000.000000</td>\n",
              "      <td>1000.000000</td>\n",
              "      <td>1000.000000</td>\n",
              "    </tr>\n",
              "    <tr>\n",
              "      <th>mean</th>\n",
              "      <td>499.500000</td>\n",
              "      <td>2023-07-03 00:25:55.200000256</td>\n",
              "      <td>41.427699</td>\n",
              "      <td>2.514000</td>\n",
              "      <td>179.890000</td>\n",
              "      <td>456.000000</td>\n",
              "    </tr>\n",
              "    <tr>\n",
              "      <th>min</th>\n",
              "      <td>0.000000</td>\n",
              "      <td>2023-01-01 00:00:00</td>\n",
              "      <td>18.000000</td>\n",
              "      <td>1.000000</td>\n",
              "      <td>25.000000</td>\n",
              "      <td>25.000000</td>\n",
              "    </tr>\n",
              "    <tr>\n",
              "      <th>25%</th>\n",
              "      <td>249.750000</td>\n",
              "      <td>2023-04-08 00:00:00</td>\n",
              "      <td>30.000000</td>\n",
              "      <td>1.000000</td>\n",
              "      <td>30.000000</td>\n",
              "      <td>60.000000</td>\n",
              "    </tr>\n",
              "    <tr>\n",
              "      <th>50%</th>\n",
              "      <td>499.500000</td>\n",
              "      <td>2023-06-29 12:00:00</td>\n",
              "      <td>42.000000</td>\n",
              "      <td>3.000000</td>\n",
              "      <td>50.000000</td>\n",
              "      <td>135.000000</td>\n",
              "    </tr>\n",
              "    <tr>\n",
              "      <th>75%</th>\n",
              "      <td>749.250000</td>\n",
              "      <td>2023-10-04 00:00:00</td>\n",
              "      <td>53.000000</td>\n",
              "      <td>4.000000</td>\n",
              "      <td>300.000000</td>\n",
              "      <td>900.000000</td>\n",
              "    </tr>\n",
              "    <tr>\n",
              "      <th>max</th>\n",
              "      <td>999.000000</td>\n",
              "      <td>2024-01-01 00:00:00</td>\n",
              "      <td>64.000000</td>\n",
              "      <td>4.000000</td>\n",
              "      <td>500.000000</td>\n",
              "      <td>2000.000000</td>\n",
              "    </tr>\n",
              "    <tr>\n",
              "      <th>std</th>\n",
              "      <td>288.819436</td>\n",
              "      <td>NaN</td>\n",
              "      <td>13.698157</td>\n",
              "      <td>1.132734</td>\n",
              "      <td>189.681356</td>\n",
              "      <td>559.997632</td>\n",
              "    </tr>\n",
              "  </tbody>\n",
              "</table>\n",
              "</div>\n",
              "    <div class=\"colab-df-buttons\">\n",
              "\n",
              "  <div class=\"colab-df-container\">\n",
              "    <button class=\"colab-df-convert\" onclick=\"convertToInteractive('df-89cd885c-d7d7-4c34-a5dc-cd01c4d38f4a')\"\n",
              "            title=\"Convert this dataframe to an interactive table.\"\n",
              "            style=\"display:none;\">\n",
              "\n",
              "  <svg xmlns=\"http://www.w3.org/2000/svg\" height=\"24px\" viewBox=\"0 -960 960 960\">\n",
              "    <path d=\"M120-120v-720h720v720H120Zm60-500h600v-160H180v160Zm220 220h160v-160H400v160Zm0 220h160v-160H400v160ZM180-400h160v-160H180v160Zm440 0h160v-160H620v160ZM180-180h160v-160H180v160Zm440 0h160v-160H620v160Z\"/>\n",
              "  </svg>\n",
              "    </button>\n",
              "\n",
              "  <style>\n",
              "    .colab-df-container {\n",
              "      display:flex;\n",
              "      gap: 12px;\n",
              "    }\n",
              "\n",
              "    .colab-df-convert {\n",
              "      background-color: #E8F0FE;\n",
              "      border: none;\n",
              "      border-radius: 50%;\n",
              "      cursor: pointer;\n",
              "      display: none;\n",
              "      fill: #1967D2;\n",
              "      height: 32px;\n",
              "      padding: 0 0 0 0;\n",
              "      width: 32px;\n",
              "    }\n",
              "\n",
              "    .colab-df-convert:hover {\n",
              "      background-color: #E2EBFA;\n",
              "      box-shadow: 0px 1px 2px rgba(60, 64, 67, 0.3), 0px 1px 3px 1px rgba(60, 64, 67, 0.15);\n",
              "      fill: #174EA6;\n",
              "    }\n",
              "\n",
              "    .colab-df-buttons div {\n",
              "      margin-bottom: 4px;\n",
              "    }\n",
              "\n",
              "    [theme=dark] .colab-df-convert {\n",
              "      background-color: #3B4455;\n",
              "      fill: #D2E3FC;\n",
              "    }\n",
              "\n",
              "    [theme=dark] .colab-df-convert:hover {\n",
              "      background-color: #434B5C;\n",
              "      box-shadow: 0px 1px 3px 1px rgba(0, 0, 0, 0.15);\n",
              "      filter: drop-shadow(0px 1px 2px rgba(0, 0, 0, 0.3));\n",
              "      fill: #FFFFFF;\n",
              "    }\n",
              "  </style>\n",
              "\n",
              "    <script>\n",
              "      const buttonEl =\n",
              "        document.querySelector('#df-89cd885c-d7d7-4c34-a5dc-cd01c4d38f4a button.colab-df-convert');\n",
              "      buttonEl.style.display =\n",
              "        google.colab.kernel.accessAllowed ? 'block' : 'none';\n",
              "\n",
              "      async function convertToInteractive(key) {\n",
              "        const element = document.querySelector('#df-89cd885c-d7d7-4c34-a5dc-cd01c4d38f4a');\n",
              "        const dataTable =\n",
              "          await google.colab.kernel.invokeFunction('convertToInteractive',\n",
              "                                                    [key], {});\n",
              "        if (!dataTable) return;\n",
              "\n",
              "        const docLinkHtml = 'Like what you see? Visit the ' +\n",
              "          '<a target=\"_blank\" href=https://colab.research.google.com/notebooks/data_table.ipynb>data table notebook</a>'\n",
              "          + ' to learn more about interactive tables.';\n",
              "        element.innerHTML = '';\n",
              "        dataTable['output_type'] = 'display_data';\n",
              "        await google.colab.output.renderOutput(dataTable, element);\n",
              "        const docLink = document.createElement('div');\n",
              "        docLink.innerHTML = docLinkHtml;\n",
              "        element.appendChild(docLink);\n",
              "      }\n",
              "    </script>\n",
              "  </div>\n",
              "\n",
              "\n",
              "    <div id=\"df-32a015f7-fa37-4753-8ccd-946c5a05b7f6\">\n",
              "      <button class=\"colab-df-quickchart\" onclick=\"quickchart('df-32a015f7-fa37-4753-8ccd-946c5a05b7f6')\"\n",
              "                title=\"Suggest charts\"\n",
              "                style=\"display:none;\">\n",
              "\n",
              "<svg xmlns=\"http://www.w3.org/2000/svg\" height=\"24px\"viewBox=\"0 0 24 24\"\n",
              "     width=\"24px\">\n",
              "    <g>\n",
              "        <path d=\"M19 3H5c-1.1 0-2 .9-2 2v14c0 1.1.9 2 2 2h14c1.1 0 2-.9 2-2V5c0-1.1-.9-2-2-2zM9 17H7v-7h2v7zm4 0h-2V7h2v10zm4 0h-2v-4h2v4z\"/>\n",
              "    </g>\n",
              "</svg>\n",
              "      </button>\n",
              "\n",
              "<style>\n",
              "  .colab-df-quickchart {\n",
              "      --bg-color: #E8F0FE;\n",
              "      --fill-color: #1967D2;\n",
              "      --hover-bg-color: #E2EBFA;\n",
              "      --hover-fill-color: #174EA6;\n",
              "      --disabled-fill-color: #AAA;\n",
              "      --disabled-bg-color: #DDD;\n",
              "  }\n",
              "\n",
              "  [theme=dark] .colab-df-quickchart {\n",
              "      --bg-color: #3B4455;\n",
              "      --fill-color: #D2E3FC;\n",
              "      --hover-bg-color: #434B5C;\n",
              "      --hover-fill-color: #FFFFFF;\n",
              "      --disabled-bg-color: #3B4455;\n",
              "      --disabled-fill-color: #666;\n",
              "  }\n",
              "\n",
              "  .colab-df-quickchart {\n",
              "    background-color: var(--bg-color);\n",
              "    border: none;\n",
              "    border-radius: 50%;\n",
              "    cursor: pointer;\n",
              "    display: none;\n",
              "    fill: var(--fill-color);\n",
              "    height: 32px;\n",
              "    padding: 0;\n",
              "    width: 32px;\n",
              "  }\n",
              "\n",
              "  .colab-df-quickchart:hover {\n",
              "    background-color: var(--hover-bg-color);\n",
              "    box-shadow: 0 1px 2px rgba(60, 64, 67, 0.3), 0 1px 3px 1px rgba(60, 64, 67, 0.15);\n",
              "    fill: var(--button-hover-fill-color);\n",
              "  }\n",
              "\n",
              "  .colab-df-quickchart-complete:disabled,\n",
              "  .colab-df-quickchart-complete:disabled:hover {\n",
              "    background-color: var(--disabled-bg-color);\n",
              "    fill: var(--disabled-fill-color);\n",
              "    box-shadow: none;\n",
              "  }\n",
              "\n",
              "  .colab-df-spinner {\n",
              "    border: 2px solid var(--fill-color);\n",
              "    border-color: transparent;\n",
              "    border-bottom-color: var(--fill-color);\n",
              "    animation:\n",
              "      spin 1s steps(1) infinite;\n",
              "  }\n",
              "\n",
              "  @keyframes spin {\n",
              "    0% {\n",
              "      border-color: transparent;\n",
              "      border-bottom-color: var(--fill-color);\n",
              "      border-left-color: var(--fill-color);\n",
              "    }\n",
              "    20% {\n",
              "      border-color: transparent;\n",
              "      border-left-color: var(--fill-color);\n",
              "      border-top-color: var(--fill-color);\n",
              "    }\n",
              "    30% {\n",
              "      border-color: transparent;\n",
              "      border-left-color: var(--fill-color);\n",
              "      border-top-color: var(--fill-color);\n",
              "      border-right-color: var(--fill-color);\n",
              "    }\n",
              "    40% {\n",
              "      border-color: transparent;\n",
              "      border-right-color: var(--fill-color);\n",
              "      border-top-color: var(--fill-color);\n",
              "    }\n",
              "    60% {\n",
              "      border-color: transparent;\n",
              "      border-right-color: var(--fill-color);\n",
              "    }\n",
              "    80% {\n",
              "      border-color: transparent;\n",
              "      border-right-color: var(--fill-color);\n",
              "      border-bottom-color: var(--fill-color);\n",
              "    }\n",
              "    90% {\n",
              "      border-color: transparent;\n",
              "      border-bottom-color: var(--fill-color);\n",
              "    }\n",
              "  }\n",
              "</style>\n",
              "\n",
              "      <script>\n",
              "        async function quickchart(key) {\n",
              "          const quickchartButtonEl =\n",
              "            document.querySelector('#' + key + ' button');\n",
              "          quickchartButtonEl.disabled = true;  // To prevent multiple clicks.\n",
              "          quickchartButtonEl.classList.add('colab-df-spinner');\n",
              "          try {\n",
              "            const charts = await google.colab.kernel.invokeFunction(\n",
              "                'suggestCharts', [key], {});\n",
              "          } catch (error) {\n",
              "            console.error('Error during call to suggestCharts:', error);\n",
              "          }\n",
              "          quickchartButtonEl.classList.remove('colab-df-spinner');\n",
              "          quickchartButtonEl.classList.add('colab-df-quickchart-complete');\n",
              "        }\n",
              "        (() => {\n",
              "          let quickchartButtonEl =\n",
              "            document.querySelector('#df-32a015f7-fa37-4753-8ccd-946c5a05b7f6 button');\n",
              "          quickchartButtonEl.style.display =\n",
              "            google.colab.kernel.accessAllowed ? 'block' : 'none';\n",
              "        })();\n",
              "      </script>\n",
              "    </div>\n",
              "\n",
              "    </div>\n",
              "  </div>\n"
            ],
            "application/vnd.google.colaboratory.intrinsic+json": {
              "type": "dataframe",
              "summary": "{\n  \"name\": \"vd\",\n  \"rows\": 8,\n  \"fields\": [\n    {\n      \"column\": \"Sale Number\",\n      \"properties\": {\n        \"dtype\": \"number\",\n        \"std\": 360.1860157939537,\n        \"min\": 0.0,\n        \"max\": 1000.0,\n        \"num_unique_values\": 7,\n        \"samples\": [\n          1000.0,\n          499.5,\n          999.0\n        ],\n        \"semantic_type\": \"\",\n        \"description\": \"\"\n      }\n    },\n    {\n      \"column\": \"Date\",\n      \"properties\": {\n        \"dtype\": \"date\",\n        \"min\": \"1970-01-01 00:00:00.000001\",\n        \"max\": \"2024-01-01 00:00:00\",\n        \"num_unique_values\": 7,\n        \"samples\": [\n          \"1000\",\n          \"2023-07-03 00:25:55.200000256\",\n          \"2023-10-04 00:00:00\"\n        ],\n        \"semantic_type\": \"\",\n        \"description\": \"\"\n      }\n    },\n    {\n      \"column\": \"Age\",\n      \"properties\": {\n        \"dtype\": \"number\",\n        \"std\": 334.3735615240917,\n        \"min\": 13.69815744653079,\n        \"max\": 982.0,\n        \"num_unique_values\": 8,\n        \"samples\": [\n          41.42769857433809,\n          53.0,\n          982.0\n        ],\n        \"semantic_type\": \"\",\n        \"description\": \"\"\n      }\n    },\n    {\n      \"column\": \"Quantity\",\n      \"properties\": {\n        \"dtype\": \"number\",\n        \"std\": 352.71483432640656,\n        \"min\": 1.0,\n        \"max\": 1000.0,\n        \"num_unique_values\": 6,\n        \"samples\": [\n          1000.0,\n          2.514,\n          1.132734340914541\n        ],\n        \"semantic_type\": \"\",\n        \"description\": \"\"\n      }\n    },\n    {\n      \"column\": \"Price per Unit\",\n      \"properties\": {\n        \"dtype\": \"number\",\n        \"std\": 330.7254087976672,\n        \"min\": 25.0,\n        \"max\": 1000.0,\n        \"num_unique_values\": 8,\n        \"samples\": [\n          179.89,\n          300.0,\n          1000.0\n        ],\n        \"semantic_type\": \"\",\n        \"description\": \"\"\n      }\n    },\n    {\n      \"column\": \"Total Amount\",\n      \"properties\": {\n        \"dtype\": \"number\",\n        \"std\": 660.8084213867855,\n        \"min\": 25.0,\n        \"max\": 2000.0,\n        \"num_unique_values\": 8,\n        \"samples\": [\n          456.0,\n          900.0,\n          1000.0\n        ],\n        \"semantic_type\": \"\",\n        \"description\": \"\"\n      }\n    }\n  ]\n}"
            }
          },
          "metadata": {},
          "execution_count": 9
        }
      ]
    },
    {
      "cell_type": "markdown",
      "source": [
        "### 3.4.2 Distribuição das Variáveis (Histogramas)\n",
        "    \n",
        "Permite analisar a frequência de valores em diferentes intervalos para as variáveis idade e quantidade total gasta, permitindo entender como ocorre a distribuição dos dados."
      ],
      "metadata": {
        "id": "9wb_yqav9c_r"
      }
    },
    {
      "cell_type": "code",
      "source": [
        "# Define o estilo visual para os gráficos\n",
        "sns.set_style(\"whitegrid\")\n",
        "\n",
        "# Define o tamanho da figura para conter os dois subplots\n",
        "plt.figure(figsize=(14, 6))\n",
        "\n",
        "# Histograma para a coluna 'Idade'\n",
        "plt.subplot(1, 2, 1) # Cria o primeiro subplot (1 linha, 2 colunas, 1ª posição)\n",
        "sns.histplot(vd['Age'], kde=True, bins=15, color='darkcyan')\n",
        "\n",
        "# Chamada da função para adicionar títulos e rótulos\n",
        "define_titulo_eixos('Distribuição da Idade dos Clientes','Idade','Frequência')\n",
        "\n",
        "# Histograma para a coluna 'Quantidade total'\n",
        "plt.subplot(1, 2, 2) # Cria o segundo subplot (1 linha, 2 colunas, 2ª posição)\n",
        "sns.histplot(vd['Total Amount'], kde=True, bins=15, color='coral')\n",
        "\n",
        "define_titulo_eixos('Distribuição da Quantidade Total Gasta','Quantidade Total Gasta','Frequência')\n",
        "\n",
        "# Ajusta o layout para evitar sobreposição de títulos e rótulos\n",
        "plt.tight_layout()\n",
        "\n",
        "# Chamada da função para imprimir e salvar o gráfico\n",
        "finalizar_e_salvar_grafico('Histograma_Idade_Qtde_TotGasta.png')"
      ],
      "metadata": {
        "colab": {
          "base_uri": "https://localhost:8080/",
          "height": 598
        },
        "id": "ThLmqcLl6jte",
        "outputId": "557f33e3-c156-408d-ad7a-799208676fcb"
      },
      "execution_count": 10,
      "outputs": [
        {
          "output_type": "display_data",
          "data": {
            "text/plain": [
              "<Figure size 1400x600 with 2 Axes>"
            ],
            "image/png": "[encoded data removed]"
          },
          "metadata": {}
        }
      ]
    },
    {
      "cell_type": "markdown",
      "source": [
        "**Distribuição da Idade dos Clientes**\n",
        "\n",
        "A distribuição de idade é uniforme, o que significa que a frequência de clientes por faixa etária é consistente, sem picos. Isso indica que a base de clientes é diversificada, o que pode ser uma força de mercado, mas também um desafio para campanhas de marketing direcionadas.\n",
        "\n",
        "**Na modelagem,** essa uniformidade sugere que a idade pode não ser um preditor tão forte quanto outras variáveis. Modelos baseados em árvores, como o Random Forest, que não fazem suposições sobre a distribuição dos dados, podem ser uma boa escolha para lidar com essa distribuição sem a necessidade de transformações.\n",
        "\n",
        "**Distribuição da Quantidade Total Gasta**\n",
        "\n",
        "A maioria das compras está concentrada em tickets médios baixos, entre R$ 0 e R$ 250,00, com tickets mais altos sendo raros. A distribuição é assimétrica, com uma cauda longa à direita e um único pico, o que a distingue de uma distribuição normal. Isso indica a necessidade de transformar a variável total de vendas para que o modelo possa capturar a sua relação com outras variáveis.\n",
        "\n",
        "É interessante notar também a presença de **tickets médios mais altos na última barra** do histograma. Embora representem uma frequência baixa, esses pontos correspondem aos **maiores valores de tickets de compras** registrados, indicando transações de maior impacto financeiro, ainda que menos frequentes.\n",
        "\n",
        "A assimetria dos dados afeta a escolha do **modelo**. Modelos lineares, como a Regressão Linear, podem ter desempenho ruim, pois assumem uma distribuição normal. Para corrigir isso, pode-se aplicar uma transformação logarítmica na variável de vendas (Quantidade Total) para torná-la mais simétrica. Uma alternativa é usar modelos não-lineares, como o Random Forest, que são menos sensíveis à distribuição dos dados e podem lidar com a assimetria sem transformações.\n",
        "\n",
        "Em resumo, a análise do histograma confirmou que os dados têm uma assimetria positiva. Isso nos dá duas opções claras para a modelagem: ou transformamos a variável alvo, ou optamos por um modelo que lide bem com essa característica, como uma árvore de decisão."
      ],
      "metadata": {
        "id": "4inN6VWi9y_o"
      }
    },
    {
      "cell_type": "markdown",
      "source": [
        "### 3.4.3 Análise da Variável Alvo (Quantidade total) ao Longo do Tempo\n",
        "\n",
        "Analisando como ocorre a média de preços ao longo do ano para todos os produtos comprados, utilizando um gráfico de linhas.\n",
        "\n",
        "Observe que há alguns casos de datas fora do \"padrão\", considerando que o período de abrangência é o ano de 2023. Esses casos serão tratados mais adiante na etapa de Pré-processamento de Dados."
      ],
      "metadata": {
        "id": "BbAow8-jEt6E"
      }
    },
    {
      "cell_type": "code",
      "source": [
        "# Converte a coluna 'Data' para o formato datetime\n",
        "#vd['Date'] = pd.to_datetime(vd['Date'])\n",
        "\n",
        "# Agrupa os dados por mês e soma a 'Quantidade total'\n",
        "vendas_mensais = vd.groupby(vd['Date'].dt.to_period('M'))['Total Amount'].sum()\n",
        "\n",
        "# Converte o índice para string para facilitar a plotagem\n",
        "vendas_mensais.index = vendas_mensais.index.astype(str)\n",
        "\n",
        "# Define o estilo visual para os gráficos\n",
        "sns.set_style(\"whitegrid\")\n",
        "plt.figure(figsize=(12, 6))\n",
        "\n",
        "# Cria o gráfico de linhas\n",
        "plt.plot(vendas_mensais.index, vendas_mensais.values, marker='o', linestyle='-')\n",
        "\n",
        "# Adiciona título e rótulos\n",
        "define_titulo_eixos('Evolução das Vendas Mensais (2023)','Mês','Total de Vendas')\n",
        "plt.xticks(rotation=45)\n",
        "plt.grid(True)\n",
        "\n",
        "# Adiciona o valor de cada ponto no gráfico\n",
        "for i, valor in enumerate(vendas_mensais.values):\n",
        "    plt.text(i, valor, f'R$ {valor:,.0f}', ha='center', va='bottom')\n",
        "\n",
        "finalizar_e_salvar_grafico('Evolucao_Vendas_Mensais.png')"
      ],
      "metadata": {
        "colab": {
          "base_uri": "https://localhost:8080/",
          "height": 607
        },
        "id": "5bsevHm4FYnD",
        "outputId": "c7d5d55f-b47a-47e3-b504-a9364d9defbd"
      },
      "execution_count": 11,
      "outputs": [
        {
          "output_type": "display_data",
          "data": {
            "text/plain": [
              "<Figure size 1200x600 with 1 Axes>"
            ],
            "image/png": "[encoded data removed]"
          },
          "metadata": {}
        }
      ]
    },
    {
      "cell_type": "markdown",
      "source": [
        "A evolução das vendas mensais mostra um padrão de oscilação ao longo de 2023. O ano começa com um pico em fevereiro (R$ 44.060), seguido por uma queda em março. Há um pico significativo em maio (R$ 53.150), mas o ano termina com vendas em dezembro (R$ 44.690) abaixo das de maio. A análise do gráfico sugere que, em vez de uma tendência única de queda, as vendas têm picos em meses específicos, como maio, outubro, dezembro e fevereiro. Isso aponta para um padrão sazonal complexo que o modelo deve capturar.\n",
        "\n",
        "Considerando que o gráfico mostra oscilações ao longo do ano com picos em meses específicos (maio, outubro, dezembro e fevereiro), o **modelo preditivo** precisa se concentrar em identificar e aprender esses padrões.\n",
        "\n",
        "O modelo preditivo deve focar na sazonalidade cíclica, identificando picos de vendas em meses específicos. Para isso, é crucial usar variáveis de tempo, como o mês, e variáveis categóricas, como a Categoria do Produto, que podem estar ligadas a eventos de marketing. Modelos como **Random Forest e Gradient Boosting** são ideais, pois lidam bem com esses padrões complexos e não-lineares, garantindo previsões mais precisas ao \"lembrar\" os meses de maior venda.\n",
        "\n",
        "Em resumo, a análise sugere que a chave para a precisão do modelo é a sazonalidade. O modelo deve ser capaz de \"lembrar\" os meses com maior venda para fazer previsões mais precisas."
      ],
      "metadata": {
        "id": "wkwDd-QBIH_7"
      }
    },
    {
      "cell_type": "markdown",
      "source": [
        "### 3.4.4 Relação entre Variáveis Numéricas"
      ],
      "metadata": {
        "id": "Hh7LsuilNh-Q"
      }
    },
    {
      "cell_type": "code",
      "source": [
        "# Seleciona apenas as colunas numéricas para a análise de correlação\n",
        "# 'ID' foi excluído pois não tem correlação com as outras variáveis\n",
        "colunas_numericas = ['Age', 'Price per Unit', 'Quantity', 'Total Amount']\n",
        "\n",
        "# Cria um novo DataFrame apenas com as colunas numéricas selecionadas\n",
        "vd_numerico = vd[colunas_numericas]\n",
        "\n",
        "# Calcula a matriz de correlação entre as variáveis numéricas\n",
        "matriz_correlacao = vd_numerico.corr()\n",
        "\n",
        "# Define o estilo visual para os gráficos\n",
        "sns.set_style(\"whitegrid\")\n",
        "plt.figure(figsize=(10, 8))\n",
        "\n",
        "# Cria o mapa de calor\n",
        "sns.heatmap(matriz_correlacao, annot=True, cmap='coolwarm', fmt=\".2f\", linewidths=.5)\n",
        "\n",
        "# Adiciona um título ao gráfico\n",
        "plt.title('Mapa de Calor da Matriz de Correlação entre Variáveis Numéricas')\n",
        "\n",
        "# Exibe o gráfico\n",
        "finalizar_e_salvar_grafico('Mz_Corr.png')"
      ],
      "metadata": {
        "colab": {
          "base_uri": "https://localhost:8080/",
          "height": 807
        },
        "id": "LqpQV0gsPGun",
        "outputId": "4a5dbbd5-72b8-45f9-ee3c-beaa9b5583c4"
      },
      "execution_count": 12,
      "outputs": [
        {
          "output_type": "display_data",
          "data": {
            "text/plain": [
              "<Figure size 1000x800 with 2 Axes>"
            ],
            "image/png": "[encoded data removed]"
          },
          "metadata": {}
        }
      ]
    },
    {
      "cell_type": "markdown",
      "source": [
        "Análise da Matriz de Correlação\n",
        "\n",
        "O mapa de calor revela que a Quantidade total tem alta correlação com o Preço por unidade (0.85) e correlação moderada com a Quantidade (0.37). As outras variáveis numéricas, como Idade, têm correlações próximas de zero.\n",
        "\n",
        "Isso significa que o Preço por unidade é o preditor mais forte para o seu modelo, com a Quantidade sendo também relevante. As demais variáveis numéricas podem ser menos importantes para a previsão.\n",
        "\n",
        "Impacto na Modelagem\n",
        "A alta correlação de Preço por unidade torna essa variável a candidata mais forte para o modelo. Já a Quantidade também é relevante. A análise sugere que o modelo de previsão de vendas deve focar em variáveis financeiras (Preço por unidade e Quantidade), já que as demográficas, como Idade, não apresentam relação linear com as vendas."
      ],
      "metadata": {
        "id": "wMEIj9AKSSeY"
      }
    },
    {
      "cell_type": "markdown",
      "source": [
        "### 3.4.5 Relação entre Variável Categórica e Variável Alvo - Boxplot\n",
        "\n",
        "Permite comparar visualmente o ticket médio e a dispersão dos gastos entre os diferentes gêneros ou categorias de produto, ajudando a identificar se essas variáveis categóricas são importantes para a previsão."
      ],
      "metadata": {
        "id": "nLpLMOi2S6Qa"
      }
    },
    {
      "cell_type": "code",
      "source": [
        "# Define o estilo visual para os gráficos\n",
        "sns.set_style(\"whitegrid\")\n",
        "\n",
        "# Define o tamanho da figura para os dois subplots\n",
        "plt.figure(figsize=(16, 6))\n",
        "\n",
        "# Boxplot para 'Quantidade total' por 'Gênero'\n",
        "plt.subplot(1, 2, 1) # Cria o primeiro subplot (1 linha, 2 colunas, 1ª posição)\n",
        "sns.boxplot(x='Gender', y='Total Amount', data=vd, palette='viridis', hue='Gender')\n",
        "define_titulo_eixos('Distribuição de Vendas por Gênero','Gênero','Quantidade Total (Vendas)')\n",
        "\n",
        "# Boxplot para 'Quantidade total' por 'Categoria do Produto'\n",
        "plt.subplot(1, 2, 2) # Cria o segundo subplot (1 linha, 2 colunas, 2ª posição)\n",
        "sns.boxplot(x='Product Category', y='Total Amount', data=vd, palette='plasma', hue='Product Category')\n",
        "define_titulo_eixos('Distribuição de Vendas por Categoria do Produto','Categoria do Produto','Quantidade Total (Vendas)')\n",
        "\n",
        "# Rotação para os rótulos do eixo X se houver muitas categorias\n",
        "plt.xticks(rotation=45, ha='right')\n",
        "finalizar_e_salvar_grafico('Boxplot_QtdeTot_Genero_Categoria.png')"
      ],
      "metadata": {
        "colab": {
          "base_uri": "https://localhost:8080/",
          "height": 525
        },
        "id": "1pTtuIYITDjj",
        "outputId": "9e098a33-fe10-4c0b-d760-7aa21ae32485"
      },
      "execution_count": 13,
      "outputs": [
        {
          "output_type": "display_data",
          "data": {
            "text/plain": [
              "<Figure size 1600x600 with 2 Axes>"
            ],
            "image/png": "[encoded data removed]"
          },
          "metadata": {}
        }
      ]
    },
    {
      "cell_type": "markdown",
      "source": [
        "**Análise dos Boxplots**\n",
        "\n",
        "O boxplot de gênero mostra que a distribuição das vendas é similar entre homens e mulheres, sugerindo que o gênero não é um preditor significativo.\n",
        "\n",
        "Já o boxplot de categoria revela diferenças claras. Eletrônicos e **Roupas**: têm vendas medianas mais altas, enquanto **Beleza e Eletrônicos** têm vendas menores. Isso torna a categoria um preditor crucial para o modelo.\n",
        "\n",
        "Considerando que a distribuição de vendas por gênero é muito similar, o gênero não deve ser uma variável significativa para o modelo. Já a categoria do produto é uma variável preditora muito importante e deve ser incluída. O modelo usará as diferenças claras nas vendas entre as categorias para fazer previsões mais precisas."
      ],
      "metadata": {
        "id": "5nGosESfWGpt"
      }
    },
    {
      "cell_type": "markdown",
      "source": [
        "# 4. Definição do target, variáveis e divisão dos dados\n",
        "\n",
        "Nessa etapa vamos preparar os dados para o treinamento do modelo no projeto de previsão de vendas."
      ],
      "metadata": {
        "id": "K_sCbCA6s64n"
      }
    },
    {
      "cell_type": "markdown",
      "source": [
        "## 4.1 Definição do Target (Variável Alvo)\n",
        "\n",
        "O target é a variável que o modelo de Machine Learning vai tentar prever. Com base em toda a análise exploratória, o target escolhido foi a variável **Quantidade total vendida**. O objetivo é construir um modelo que preveja o valor de venda total de uma transação."
      ],
      "metadata": {
        "id": "_HBuESfC-PwB"
      }
    },
    {
      "cell_type": "code",
      "source": [
        "target = \"Total Amount\"  # Variável alvo\n",
        "\n",
        "print(\"Target (Variável Alvo):\", target)"
      ],
      "metadata": {
        "colab": {
          "base_uri": "https://localhost:8080/"
        },
        "id": "E5UFWSu8Gm1j",
        "outputId": "4e8ab025-1fcc-4adc-81a5-7eca072d1ab5"
      },
      "execution_count": 14,
      "outputs": [
        {
          "output_type": "stream",
          "name": "stdout",
          "text": [
            "Target (Variável Alvo): Total Amount\n"
          ]
        }
      ]
    },
    {
      "cell_type": "markdown",
      "source": [
        "## 4.2 Definição das Variáveis (Características)\n",
        "\n",
        "As variáveis, também chamadas de features, são os dados de entrada que o modelo usará para fazer a previsão e para este modelo definimos:\n",
        "\n",
        "Variáveis **numéricas**: A análise de correlação mostrou que **Preço por unidade** tem uma alta correlação com o target. A variável **Quantidade** também é importante, mas com uma correlação moderada.\n",
        "\n",
        "Variáveis **categóricas**: A análise dos boxplots indicou que **Categoria do Produto** é uma feature crucial, pois as vendas variam muito entre as diferentes categorias.\n",
        "\n",
        "O modelo de previsão será construído usando essas variáveis. Variáveis como Gênero e Idade, que mostraram pouca ou nenhuma correlação com as vendas totais, serão descartadas para simplificar o modelo."
      ],
      "metadata": {
        "id": "_dCqihqj_EBt"
      }
    },
    {
      "cell_type": "code",
      "source": [
        "# Selecionando as features com base na análise exploratória\n",
        "features = [\"Price per Unit\", \"Product Category\"]\n",
        "date_col = \"Date\"\n",
        "\n",
        "print(\"Número de features:\", len(features))"
      ],
      "metadata": {
        "colab": {
          "base_uri": "https://localhost:8080/"
        },
        "id": "7fNNpAsnIo3k",
        "outputId": "155e4518-e174-4af7-92de-814ab6d77d96"
      },
      "execution_count": 15,
      "outputs": [
        {
          "output_type": "stream",
          "name": "stdout",
          "text": [
            "Número de features: 2\n"
          ]
        }
      ]
    },
    {
      "cell_type": "markdown",
      "source": [
        "Observe que para a escolha das variáveis numéricas não foi considerada a variável \"Quantidade\".\n",
        "\n",
        "Isso se deu pois, para construir um modelo de previsão útil, é fundamental usar apenas variáveis que podem ser conhecidas antes de uma venda. Incluir a variável \"Quantidade\" no conjunto de entradas para analisar a previsão de vendas não é correto, pois a variável \"Quantidade total\" (target) é uma simples multiplicação de \"Preço por unidade\" e \"Quantidade\".\n",
        "\n",
        "Para o modelo ser útil, ele deve ser construído para prever a Quantidade total usando apenas as variáveis que o negócio pode manipular ou observar antes da venda.\n",
        "\n",
        "Portanto, para garantir que o modelo tenha valor preditivo para o negócio, a variável \"Quantidade\" será excluída do conjunto de dados de entrada.\n",
        "\n",
        "Além disso, observe também que a variável \"Data\" vou capturada a parte, considerando que será realizada engenharia de features neste caso."
      ],
      "metadata": {
        "id": "c6kYxsvwT0ta"
      }
    },
    {
      "cell_type": "markdown",
      "source": [
        "## 4.3. Divisão dos Dados\n",
        "\n",
        "Dividiremos o conjunto de dados em treino e teste com o propósito de treinar o modelo para aprender padrões (etapa de treino) e posteriormente avaliá-lo com os dados nunca vistos.\n",
        "\n",
        "Considerando que o problema é uma análise de série temporal, os dados não serão embaralhados já que o modelo precisa aprender a ordem temporal para prever valores futuros.\n",
        "\n",
        "Portanto, a divisão proposta utilizará os dados mais antigos para treino e os mais recentes para teste.\n",
        "\n",
        "Para isso, utilizaremos a técnica de validação hold-out temporal, que representa um método simples e robusto para avaliar modelos de aprendizado de máquina em problemas de série temporal, mantendo a ordem cronológica dos dados.\n",
        "\n",
        "A vantagem da validação hold-out temporal é que ela simula uma situação real de previsão. O modelo é treinado apenas com dados do passado e avaliado em dados que ele nunca viu, garantindo que não haja vazamento de dados (data leakage)."
      ],
      "metadata": {
        "id": "sxvpJwHzAp98"
      }
    },
    {
      "cell_type": "code",
      "source": [
        "# Recarregando o DataFrame para garantir a ordem cronológica nas próximas etapas\n",
        "vd_again = pd.read_csv('https://raw.githubusercontent.com/marcelegv/AnaliseExploratoria/refs/heads/main/Sales_Dataset.csv')\n",
        "\n",
        "# Converte a coluna 'Date' para o formato de data e define-a como índice\n",
        "vd_again['Date'] = pd.to_datetime(vd_again['Date'])\n",
        "vd_again.set_index('Date', inplace=True)\n",
        "\n",
        "# Garante que o DataFrame esteja ordenado pelo índice (data)\n",
        "vd_sorted = vd_again.sort_index()\n",
        "\n",
        "# Cria os conjuntos de features (X) e alvo (y)\n",
        "X = vd_sorted[features]\n",
        "y = vd_sorted[target]\n",
        "\n",
        "# Divide os dados em treino e teste, mantendo a ordem cronológica\n",
        "cutoff = int(len(vd_sorted) * 0.8)\n",
        "X_train = X.iloc[:cutoff]\n",
        "X_test = X.iloc[cutoff:]\n",
        "y_train = y.iloc[:cutoff]\n",
        "y_test = y.iloc[cutoff:]\n",
        "\n",
        "# Verificação final\n",
        "print(\"Verificando se o índice de y_test está em ordem cronológica:\", y_test.index.is_monotonic_increasing)\n",
        "print(\"\\nPrimeiros 5 índices de y_test:\", y_test.index[:5])\n",
        "print(\"\\nÚltimos 5 índices de y_test:\", y_test.index[-5:])"
      ],
      "metadata": {
        "colab": {
          "base_uri": "https://localhost:8080/"
        },
        "id": "1OU-BA-_O5oF",
        "outputId": "afcf7d45-c486-4225-840a-211614ee327e"
      },
      "execution_count": 16,
      "outputs": [
        {
          "output_type": "stream",
          "name": "stdout",
          "text": [
            "Verificando se o índice de y_test está em ordem cronológica: True\n",
            "\n",
            "Primeiros 5 índices de y_test: DatetimeIndex(['2023-10-22', '2023-10-22', '2023-10-22', '2023-10-23',\n",
            "               '2023-10-23'],\n",
            "              dtype='datetime64[ns]', name='Date', freq=None)\n",
            "\n",
            "Últimos 5 índices de y_test: DatetimeIndex(['2023-12-29', '2023-12-29', '2023-12-31', '2024-01-01',\n",
            "               '2024-01-01'],\n",
            "              dtype='datetime64[ns]', name='Date', freq=None)\n"
          ]
        }
      ]
    },
    {
      "cell_type": "markdown",
      "source": [
        "# 5. Tratamento de dados e Pipeline de pré-processamento\n",
        "\n",
        "Um pipeline é um processo automatizado que garante que as transformações (como padronização de dados ou codificação de variáveis categóricas) sejam aplicadas de forma correta e consistente, evitando que dados do conjunto de teste \"vazem\" para o conjunto de treinamento.\n",
        "\n",
        "Assim, o uso de pipelines possibilita o desenvolvimento de um modelo de machine learning confiável, uma vez que:\n",
        "\n",
        "- Previne o vazamento de dados, garantindo que as transformações sejam \"aprendidas\" apenas nos dados de treino e depois aplicadas de forma correta nos dados de teste;\n",
        "\n",
        "- Garante que o seu modelo será sempre treinado e avaliado da mesma forma.\n",
        "\n",
        "A função Pipeline da biblioteca scikit-learn auxilia nesse processo, unindo essas transformações em um único objeto.\n"
      ],
      "metadata": {
        "id": "0PbCoJS-Ccdg"
      }
    },
    {
      "cell_type": "markdown",
      "source": [
        "## 5.1 Padronização, Codificação e Tratamento de valores nulos e ausentes"
      ],
      "metadata": {
        "id": "813atN4NG6Pg"
      }
    },
    {
      "cell_type": "code",
      "source": [
        "# Identificam quais colunas são numéricas e quais são categóricas. Essa separação é fundamental, pois cada tipo de dado exige um tipo diferente de tratamento.\n",
        "\n",
        "#Ignora as variáveis Identificador único, evitando overfitting; gênero, pois vimos anteriormente que ele não interfere no modelo e quantidade para evitar vazamento de dados\n",
        "cols_ignore = ['Sale Number','Gender','Quantity']\n",
        "\n",
        "# Criando uma lista com o nome de todas as colunas que contém dados numéricos no conjunto de treino\n",
        "num_cols = [c for c in X_train.columns if str(X_train[c].dtype).startswith((\"float\",\"int\")) and c not in cols_ignore]\n",
        "\n",
        "#Criando uma lista com o nome de todas as colunas que contém dados categóricos no conjunto de treino\n",
        "cat_cols = [c for c in X_train.columns if c not in num_cols and c not in ['timestamp', 'Date'] and c not in cols_ignore]\n",
        "\n",
        "# Contruindo pipelines separados para cada tipo de dado (numéricos e categóricos)\n",
        "\n",
        "# Este pipeline é uma sequência de operações aplicadas apenas às colunas numéricas\n",
        "numeric_pipe = Pipeline(steps=[\n",
        "    #Preenche valores nulos com a mediana da coluna:\n",
        "    (\"imputer\", SimpleImputer(strategy=\"median\")),\n",
        "    #Padroniza os dados, transformando-os para que tenham uma média de 0 e um desvio padrão de 1, essencial para modelos sensíveis à escala dos dados:\n",
        "    (\"scaler\", StandardScaler())\n",
        "])\n",
        "\n",
        "# Este pipeline é para as colunas categóricas. Ele também preenche valores nulos, mas sua principal função é o OneHotEncoder.\n",
        "categorical_pipe = Pipeline(steps=[\n",
        "    # Preenche valores nulos com a categoria mais frequente:\n",
        "    (\"imputer\", SimpleImputer(strategy=\"most_frequent\")),\n",
        "    # Cria novas colunas binárias para cada categoria.\n",
        "    # A grande maioria dos algoritmos de machine learning não consegue trabalhar diretamente com dados textuais ou categóricos no seu formato original:\n",
        "    (\"onehot\", OneHotEncoder(handle_unknown=\"ignore\"))\n",
        "])\n",
        "\n",
        "# Combina os pipelines numérico e categórico em um único objeto, aplicando o numeric_pipe nas colunas numéricas e o categorical_pipe nas colunas categóricas\n",
        "\n",
        "preprocess = ColumnTransformer(transformers=[\n",
        "    (\"num\", numeric_pipe, num_cols),\n",
        "    (\"cat\", categorical_pipe, cat_cols)\n",
        "])\n",
        "\n",
        "print(\"num_cols:\", num_cols[:5], \"...\")\n",
        "print(\"cat_cols:\", cat_cols[:5], \"...\")"
      ],
      "metadata": {
        "colab": {
          "base_uri": "https://localhost:8080/"
        },
        "id": "O0V_VTbRfDzL",
        "outputId": "289d430f-5a23-4965-fea0-7896555e4c2f"
      },
      "execution_count": 17,
      "outputs": [
        {
          "output_type": "stream",
          "name": "stdout",
          "text": [
            "num_cols: ['Price per Unit'] ...\n",
            "cat_cols: ['Product Category'] ...\n"
          ]
        }
      ]
    },
    {
      "cell_type": "markdown",
      "source": [
        "**Tratamento de valores nulos e ausentes**\n",
        "\n",
        "1.   Variáveis **NÃO** selecionadas para o modelo\n",
        "\n",
        "O dataset Sales apresenta valores nulos/ausentes nas variáveis Idade e Gênero, como demonstrado na etapa de verificação inicial do conjunto de dados, item 3.2. No entanto, com base na análise exploratória inicial, essas variáveis não foram selecionadas como preditoras para o modelo.\n",
        "\n",
        "Para otimizar o processo e focar na qualidade dos dados que o modelo irá utilizar, não realizaremos o tratamento de valores nulos/ausentes para essas variáveis, uma vez que as colunas não serão incluídas no modelo.\n",
        "\n",
        "2.   Variáveis que compõem o modelo\n",
        "\n",
        "Para as variáveis selecionadas para o modelo, a função SimpleImputer foi mantida nos pipelines, mesmo na ausência de valores nulos neste conjunto de dados. Esta é uma medida que garante a robustez do modelo, preparando-o para lidar com a imprevisibilidade de dados reais e assegurando que ele funcione de maneira confiável com novas entradas no futuro."
      ],
      "metadata": {
        "id": "KOgClWXoHFe8"
      }
    },
    {
      "cell_type": "markdown",
      "source": [
        "## 5.2 Execução do Pipeline Completo e Tratamento da variável \"Data\" - Engenharia de Features\n",
        "\n",
        "É a etapa onde todos os pipelines e transformadores são combinados e aplicados aos dados de treino e teste de forma unificada.\n",
        "\n",
        "Ele garante que todas as transformações de limpeza e engenharia de features que aprendemos nos dados de treino sejam aplicadas exatamente da mesma forma nos dados de teste.\n",
        "\n",
        "Para a veriável Data, não existe uma única função pronta no scikit-learn para transformar variáveis de data dentro de um pipeline.\n",
        "\n",
        "Portanto, para tratar essa variável de entrada utilizaremos um transformador customizado para extrair features de datas para que o modelo seja capaz de aprender os padrões temporais identificados no DataSet escolhido.\n",
        "\n"
      ],
      "metadata": {
        "id": "hw0VK3wqHUgJ"
      }
    },
    {
      "cell_type": "code",
      "source": [
        "# Define o nome da coluna de data\n",
        "date_col = 'Date'\n",
        "\n",
        "# Define a lista completa de features incluindo a coluna de data\n",
        "# Garante que todos os elementos nesta lista são strings representando nomes de colunas\n",
        "all_features = [date_col] + num_cols + cat_cols\n",
        "\n",
        "# Separa as features (X) e o target (y) do DataFrame original\n",
        "X = vd[all_features].copy()\n",
        "y = vd[target].copy()\n",
        "\n",
        "# Initialize TimeSeriesSplit\n",
        "tscv = TimeSeriesSplit(n_splits=5)\n",
        "\n",
        "# O loop 'for' itera pelas divisões criadas pelo TimeSeriesSplit.\n",
        "# Neste caso específico, o loop simplesmente percorre todas as divisões, e a última é armazenada como os dados finais de treino/teste.\n",
        "# Isso é equivalente a uma única divisão de treino/teste, onde a última divisão se torna os dados de teste.\n",
        "# Ele garante que não estamos usando dados futuros para treinar seu modelo.\n",
        "for train_index, test_index in tscv.split(X): # Aplica o TimeSeriesSplit às features X\n",
        "    X_train, X_test = X.iloc[train_index], X.iloc[test_index]\n",
        "    y_train, y_test = y.iloc[train_index], y.iloc[test_index] # Divide o target y de acordo\n",
        "\n",
        "# Pipeline para a coluna de data (usando o transformador customizado)\n",
        "date_pipe = Pipeline(steps=[\n",
        "   ('date_extractor', DateFeatureExtractor(date_col=date_col)),\n",
        "   ('scaler', StandardScaler()) # Escala as features de data extraídas também\n",
        "])\n",
        "\n",
        "# Combina os pipelines em um único ColumnTransformer\n",
        "# Garante que os nomes das colunas correspondem aos de X_train e X_test\n",
        "preprocess = ColumnTransformer(transformers=[\n",
        "    (\"date_features\", date_pipe, [date_col]), # Aplica o date_pipe à coluna 'Date'\n",
        "    (\"num\", numeric_pipe, num_cols),         # Aplica o numeric_pipe às colunas numéricas\n",
        "    (\"cat\", categorical_pipe, cat_cols)       # Aplica o categorical_pipe às colunas categóricas\n",
        "])\n",
        "\n",
        "# Aplica o pipeline de pré-processamento aos dados de treino e teste\n",
        "X_train_processed = preprocess.fit_transform(X_train)\n",
        "X_test_processed = preprocess.transform(X_test)\n",
        "\n",
        "print(\"Formato dos dados de treino pré-processados:\", X_train_processed.shape)\n",
        "print(\"Formato dos dados de teste pré-processados:\", X_test_processed.shape)"
      ],
      "metadata": {
        "colab": {
          "base_uri": "https://localhost:8080/"
        },
        "id": "oNqUExEiIvCH",
        "outputId": "b8ea89db-aa86-4cf2-e66f-184e0854ee90"
      },
      "execution_count": 18,
      "outputs": [
        {
          "output_type": "stream",
          "name": "stdout",
          "text": [
            "Formato dos dados de treino pré-processados: (834, 8)\n",
            "Formato dos dados de teste pré-processados: (166, 8)\n"
          ]
        }
      ]
    },
    {
      "cell_type": "markdown",
      "source": [
        "O \"TimeSeriesSplit\" do Scikit-Learn, com n_splits = 5, divide o conjunto de dados em 6 partes. Criando 5 \"dobras\" de treino/teste de forma progressiva.\n",
        "\n",
        "O \"for\" loop, \"for train_index, test_index in tscv.split(X):\", vai iterar por essas 5 dobras, e a cada iteração, \"X_train\" e \"X_test\" são redefinidos. No final do loop, \"X_train\" e \"X_test\" irão conter os dados da **última dobra** (o 5º fold).\n",
        "\n",
        "Tamanho de cada parte do conjunto de dados = (treino+teste)/ (n_split+1)\n",
        "Tamanho de cada parte: 1000 / (5 + 1) = 166.66 (166 amostras em razão do arredondamento realizado pelo \"TimeSeriesSplit\".\n",
        "\n",
        "Para os dados de teste pré-processados foram geradas 166 amostras. Isso é o tamanho do conjunto de teste na última dobra do TimeSeriesSplit, que pega o último \"pedaço\" do dataset.\n",
        "\n",
        "Para os dados de treino pré-processados foram geradas 834 amostras. Isso é a soma dos 5 primeiros \"pedaços\" de 166 amostras, ou seja, 5 * 166.66..., que resulta em \"834\". Isso mostra que o X_train na última dobra contém a grande maioria dos dados.\n",
        "\n",
        "O número de colunas tanto no treino quanto no teste é 8.\n",
        "\n",
        "A proporção de treino/teste (\"834\" vs. \"166\") é de aproximadamente **83.4% para treino** e **16.6% para teste**."
      ],
      "metadata": {
        "id": "y4BIp-UgpnzM"
      }
    },
    {
      "cell_type": "markdown",
      "source": [
        "# 6. Baseline e Modelo de Dados\n",
        "\n",
        "O propósito desta etapa é estabelecer um ponto de referência e comparar diferentes soluções.\n",
        "\n",
        "Busca verificar se a aplicação de um modelo é mais eficiente que a solução trivial, sendo ela a baseline, a solução mais simples e ingênua possível.\n",
        "\n",
        "Dessa forma, essa etapa garante que o projeto não siga um \"caminho de otimismo cego\". Em vez de pular direto para o modelo mais complexo, testamos se ele realmente oferece um valor agregado."
      ],
      "metadata": {
        "id": "XcHpQ9s_B4n1"
      }
    },
    {
      "cell_type": "markdown",
      "source": [
        "## 6.1 Baseline\n",
        "\n",
        "Para implementar o modelo baseline para o problema de série temporal, vamos usar o DummyRegressor do Scikit-Learn, um modelo de regressão que usado como baseline.\n",
        "\n",
        "Ele não aprende com os dados, mas prevê um valor constante, como a média do conjunto de treino. Se um modelo mais complexo não consegue superá-lo, significa que ele não está aprendendo nada útil e seu desempenho é considerado ineficaz.\n",
        "\n",
        "Como o problema é de regressão (prever a quantidade total vendida), ele fornecerá uma previsão simples e ingênua que serve como ponto de partida."
      ],
      "metadata": {
        "id": "5kuan1F5EA8J"
      }
    },
    {
      "cell_type": "code",
      "source": [
        "#Medindo o tempo de execução da etapa de treino do Baseline\n",
        "start_time = time.time() #Ponto de partida, \"ativando o cronômetro\" para medição do desempenho do modelo\n",
        "\n",
        "# Etapa 1: Definição da estratégia do modelo escolhido\n",
        "# A estratégia 'mean' é uma das opções mais simples desse modelo, e funciona prevendo a média dos valores da variável alvo (y) do conjunto de dados de treino, independentemente das features (X).\n",
        "# Assim, a baseline não precisa de X_train_processed porque ela só usa o y_train e dessa maneira, vamos treinar com os dados de treino não transformados.\n",
        "dummy_model = DummyRegressor(strategy='mean')\n",
        "\n",
        "# Etapa 2: Treinamento do modelo escolhido\n",
        "# O modelo calcula a média de todos os valores na sua variável alvo de treino (y_train).\n",
        "dummy_model.fit(X_train, y_train)\n",
        "\n",
        "#Captura o momento final da execução do modelo e calcula a diferença\n",
        "train_time_dummy = time.time() - start_time\n",
        "\n",
        "# Etapa 3: Previsões do modelo escolhido\n",
        "# O DummyRegressor prevê a média dos valores de 'y_train'.\n",
        "# Para qualquer nova entrada (X_test), a previsão do modelo será sempre o valor médio calculado na etapa de treino.\n",
        "y_pred_dummy = dummy_model.predict(X_test)\n",
        "\n",
        "# Etapa 4: Avaliação do modelo escolhido\n",
        "# Compara o conjunto de valores reais com as previsões feitas pelo modelo e calcula o erro quadrático médio.\n",
        "# RMSE é uma métrica útil, pois está na mesma unidade do target\n",
        "rmse_dummy = np.sqrt(mean_squared_error(y_test, y_pred_dummy))\n",
        "\n",
        "# O R² mede a proporção da variância na variável alvo (y) que é explicada pelas suas features (X). Ou seja, mostra o quão bem o modelo se ajusta aos dados.\n",
        "# Ela compara a variabilidade das previsões com a variabilidade dos valores reais.\n",
        "# Ele serve como um ponto de comparação imediato. Qualquer modelo mais complexo que construirmos deve ter um R² significativamente maior do que o da baseline.\n",
        "r2_dummy = r2_score(y_test, y_pred_dummy)\n",
        "\n",
        "# Adiciona os resultados do modelo ao dicionário criado results.\n",
        "results['DummyRegressor'] = {'RMSE': rmse_dummy, 'R²': r2_dummy, 'train_time_s': train_time_dummy}\n",
        "\n",
        "print(\"Desempenho do Modelo Baseline\")\n",
        "print(f\"\\nRaiz do Erro Quadrático Médio (RMSE): {rmse_dummy:.2f}\")\n",
        "print(f\"\\nR² (Coeficiente de Determinação): {r2_dummy:.2f}\")\n",
        "\n",
        "# Exibindo uma amostra das previsões da baseline\n",
        "print(\"\\nPrevisão (todos os valores são a média):\")\n",
        "print(y_pred_dummy[:5])\n",
        "print(\"\\nValores Reais:\")\n",
        "print(y_test.values[:5])"
      ],
      "metadata": {
        "id": "3asH5qmbHKVe",
        "colab": {
          "base_uri": "https://localhost:8080/"
        },
        "outputId": "4152ceed-5aea-4a50-f6e5-32264e8b441b"
      },
      "execution_count": 19,
      "outputs": [
        {
          "output_type": "stream",
          "name": "stdout",
          "text": [
            "Desempenho do Modelo Baseline\n",
            "\n",
            "Raiz do Erro Quadrático Médio (RMSE): 560.51\n",
            "\n",
            "R² (Coeficiente de Determinação): -0.00\n",
            "\n",
            "Previsão (todos os valores são a média):\n",
            "[451.33093525 451.33093525 451.33093525 451.33093525 451.33093525]\n",
            "\n",
            "Valores Reais:\n",
            "[  50   75   90  100 1500]\n"
          ]
        }
      ]
    },
    {
      "cell_type": "markdown",
      "source": [
        "A análise da baseline demonstra que ela é um ponto de partida para comparação, não um modelo de previsão útil. O Coeficiente de Determinação de -0.00 mostra que ela não explica nenhuma variação nos dados, agindo de forma ingênua ao simplesmente prever a média dos valores de treino. O Erro Quadrático Médio de 560,51 representa o erro médio dessa abordagem, indicando que, em média, as previsões estão erradas por aproximadamente 560 unidades. A discrepância entre as previsões constantes e os valores reais, que variam de 50 a 1500, é a principal causa desse erro elevado.\n",
        "\n",
        "Com base nesses resultados, o objetivo agora é encontrar um modelo que supere a performance da baseline. O próximo modelo considerado será bem-sucedido se tiver um RMSE significativamente menor que 560,51 e um R² positivo (maior que zero). Isso confirmará que o modelo está, de fato, aprendendo padrões úteis e adicionando valor real às previsões."
      ],
      "metadata": {
        "id": "HBsokPWs7k_i"
      }
    },
    {
      "cell_type": "markdown",
      "source": [
        "## 6.2 Novos Modelos de Dados\n",
        "\n",
        "Os modelos Random Forest e Gradient Boosting serão utilizados para superar o desempenho da baseline, pois são capazes de capturar padrões complexos e relações não-lineares nos dados. Eles aproveitam as features numéricas, categóricas e de tempo criadas no pré-processamento para identificar a complexidade e a sazonalidade dos dados, fatores essenciais para a previsão em séries temporais. Além disso, a robustez desses modelos os torna menos sensíveis a outliers, o que garante uma avaliação mais precisa da capacidade de generalização para dados futuros"
      ],
      "metadata": {
        "id": "OK37ofrn9UH9"
      }
    },
    {
      "cell_type": "markdown",
      "source": [
        "### 6.2.1 Random Forest\n",
        "\n",
        "É um algoritmo de aprendizado de máquina que constrói várias árvores de decisão e as junta para obter uma previsão mais precisa e estável. Ele funciona como uma \"floresta\" de árvores, onde cada uma é treinada em uma parte aleatória dos dados.\n",
        "\n",
        "Para fazer uma previsão, o algoritmo combina o resultado de todas as árvores (por exemplo, tirando a média das previsões de cada árvore para um problema de regressão). Essa abordagem reduz o problema de overfitting (quando o modelo se ajusta demais aos dados de treino) e melhora a precisão, tornando-o uma escolha popular e robusta."
      ],
      "metadata": {
        "id": "Ky0wQ04mAiEk"
      }
    },
    {
      "cell_type": "code",
      "source": [
        "#Medindo o tempo de execução da etapa de treino\n",
        "start_time = time.time() #Ponto de partida, \"ativando o cronômetro\" para medição do desempenho do modelo\n",
        "\n",
        "# Etapa 1: Definição da estratégia do modelo escolhido\n",
        "# Parâmetros iniciais definidos: n_estimators: número de árvores na floresta; random_state: garante que os resultados sejam reproduzíveis\n",
        "rf_model = RandomForestRegressor(n_estimators=100, random_state=42)\n",
        "\n",
        "# Etapa 2: Treinamento do modelo escolhido, usando os dados de treino pré-processados\n",
        "# As features (X) são as colunas processadas e o alvo (y) é a quantidade vendida\n",
        "rf_model.fit(X_train_processed, y_train)\n",
        "\n",
        "#Captura o momento final da execução do modelo e calcula a diferença\n",
        "train_time_rf = time.time() - start_time\n",
        "\n",
        "# Etapa 3: Previsões nos dados de teste pré-processados, utilizando o modelo treinado\n",
        "y_pred_rf = rf_model.predict(X_test_processed)\n",
        "\n",
        "# Etapa 4: Avaliação do modelo escolhido\n",
        "# Cálculo do RMSE\n",
        "rmse_rf = np.sqrt(mean_squared_error(y_test, y_pred_rf))\n",
        "\n",
        "# Cálculo do R²\n",
        "r2_rf = r2_score(y_test, y_pred_rf)\n",
        "\n",
        "# Adiciona os resultados do modelo ao dicionário criado results.\n",
        "results['RandomForestRegressor'] = {'RMSE': rmse_rf, 'R²': r2_rf, 'train_time_s': train_time_rf}\n",
        "\n",
        "print(\"--- Desempenho do Modelo Random Forest ---\")\n",
        "print(f\"Raiz do Erro Quadrático Médio (RMSE): {rmse_rf:.2f}\")\n",
        "print(f\"\\nR² (Coeficiente de Determinação): {r2_rf:.2f}\")\n",
        "\n",
        "# Exibindo uma amostra das previsões da baseline\n",
        "print(\"\\nPrevisão:\")\n",
        "print(y_pred_rf[:5])\n",
        "print(\"\\nValores Reais:\")\n",
        "print(y_test.values[:5])"
      ],
      "metadata": {
        "colab": {
          "base_uri": "https://localhost:8080/"
        },
        "id": "BrSSXZeYBVMg",
        "outputId": "8a8fc843-5a74-47e3-d003-a4c224ee5c56"
      },
      "execution_count": 20,
      "outputs": [
        {
          "output_type": "stream",
          "name": "stdout",
          "text": [
            "--- Desempenho do Modelo Random Forest ---\n",
            "Raiz do Erro Quadrático Médio (RMSE): 269.33\n",
            "\n",
            "R² (Coeficiente de Determinação): 0.77\n",
            "\n",
            "Previsão:\n",
            "[ 156.41666667   83.80833333   86.6         160.41666667 1460.83333333]\n",
            "\n",
            "Valores Reais:\n",
            "[  50   75   90  100 1500]\n"
          ]
        }
      ]
    },
    {
      "cell_type": "markdown",
      "source": [
        "O modelo Random Forest gerou um resultado realista e promissor. Ele alcançou um RMSE de 269,33, a média de erro na unidade da variável alvo, que é significativamente menor que o da baseline (560.51). Essa redução de mais de 50% no erro demonstra a eficácia do modelo.\n",
        "\n",
        "Além disso, o R² de 0.77 indica que o modelo explica 77% da variabilidade dos dados. Esse resultado robusto mostra que o Random Forest capturou com sucesso os padrões complexos e sazonais, confirmando que é uma solução viável e sólida para o problema, superando a baseline de forma expressiva."
      ],
      "metadata": {
        "id": "67fxKC5KEx3K"
      }
    },
    {
      "cell_type": "markdown",
      "source": [
        "### 6.3.1 Gradient Boosting\n",
        "\n",
        "É uma técnica constrói um modelo forte a partir da combinação de modelos fracos. A principal ideia é treinar as árvores de decisão de forma sequencial, onde cada nova árvore é construída para corrigir os erros cometidos pelas árvores anteriores. Ele \"aprende\" gradualmente a partir dos erros e melhora o desempenho a cada passo. Modelos como XGBoost e LightGBM são versões altamente otimizadas e eficientes de Gradient Boosting, conhecidas por sua velocidade, alta precisão e capacidade de lidar com grandes volumes de dados."
      ],
      "metadata": {
        "id": "um7MVMxLFAau"
      }
    },
    {
      "cell_type": "markdown",
      "source": [
        "#### 6.3.1.1 XGBoost\n",
        "\n",
        "O XGBoost é um modelo de aprendizado de máquina, da família dos algoritmos Gradient Boosting, que constroem um modelo forte a partir da combinação sequencial de modelos mais fracos, geralmente árvores de decisão.\n",
        "\n",
        "A principal característica do XGBoost é que cada nova árvore é criada para corrigir os erros das árvores anteriores."
      ],
      "metadata": {
        "id": "uM8oYz7I1EZp"
      }
    },
    {
      "cell_type": "code",
      "source": [
        "#Medindo o tempo de execução da etapa de treino\n",
        "start_time = time.time() #Ponto de partida, \"ativando o cronômetro\" para medição do desempenho do modelo\n",
        "\n",
        "# Etapa 1: Definição da estratégia do modelo escolhido\n",
        "# Instancia o modelo XGBoost para regressão\n",
        "# Ajuste os hiperparâmetros (n_estimators, learning_rate, etc.) para otimização futura\n",
        "xgb_model = xgb.XGBRegressor(objective='reg:squarederror', n_estimators=100, random_state=42)\n",
        "\n",
        "# Etapa 2: Treinamento do modelo escolhido, usando os dados de treino pré-processados\n",
        "xgb_model.fit(X_train_processed, y_train)\n",
        "\n",
        "#Captura o momento final da execução do modelo e calcula a diferença\n",
        "train_time_xgb = time.time() - start_time\n",
        "\n",
        "# Etapa 3: Previsões nos dados de teste pré-processados, utilizando o modelo treinado\n",
        "y_pred_xgb = xgb_model.predict(X_test_processed)\n",
        "\n",
        "# Etapa 4: Avaliação do modelo escolhido\n",
        "# Cálculo do RMSE\n",
        "rmse_xgb = np.sqrt(mean_squared_error(y_test, y_pred_xgb))\n",
        "\n",
        "# Cálculo do R²\n",
        "r2_xgb = r2_score(y_test, y_pred_xgb)\n",
        "\n",
        "# Adiciona os resultados do modelo ao dicionário criado results.\n",
        "results['XGBoostRegressor'] = {'RMSE': rmse_xgb, 'R²': r2_xgb, 'train_time_s': train_time_xgb}\n",
        "\n",
        "print(\"--- Desempenho do Modelo XGBoost Regressor ---\")\n",
        "print(f\"Raiz do Erro Quadrático Médio (RMSE): {rmse_xgb:.2f}\")\n",
        "print(f\"\\nR² (Coeficiente de Determinação): {r2_xgb:.2f}\")\n",
        "\n",
        "# Exibindo uma amostra das previsões da baseline\n",
        "print(\"\\nPrevisão:\")\n",
        "print(y_pred_xgb[:5])\n",
        "print(\"\\nValores Reais:\")\n",
        "print(y_test.values[:5])\n"
      ],
      "metadata": {
        "colab": {
          "base_uri": "https://localhost:8080/"
        },
        "id": "wE5jlCRUGnoO",
        "outputId": "f1c4847f-807f-4c59-fa21-423c67f5ab67"
      },
      "execution_count": 21,
      "outputs": [
        {
          "output_type": "stream",
          "name": "stdout",
          "text": [
            "--- Desempenho do Modelo XGBoost Regressor ---\n",
            "Raiz do Erro Quadrático Médio (RMSE): 291.11\n",
            "\n",
            "R² (Coeficiente de Determinação): 0.73\n",
            "\n",
            "Previsão:\n",
            "[ 251.27028     8.370294   50.420074  196.73843  1794.1038  ]\n",
            "\n",
            "Valores Reais:\n",
            "[  50   75   90  100 1500]\n"
          ]
        }
      ]
    },
    {
      "cell_type": "markdown",
      "source": [
        "O modelo XGBoost apresentou um desempenho aceitável, com um RMSE de 291,11, indicando que suas previsões erraram, em média, por essa quantidade. O R² de 0.73 sugere que ele explica 73% da variabilidade dos dados. A análise das previsões mostra que, embora ele tenha se aproximado de valores altos, como 1500, teve dificuldades com valores menores."
      ],
      "metadata": {
        "id": "q-5WEPoG4Ux8"
      }
    },
    {
      "cell_type": "markdown",
      "source": [
        "#### 6.3.1.2 LightGBM\n",
        "\n",
        "É um modelo de Machine Learning que também faz parte da família de algoritmos Gradient Boosting, assim como o XGBoost. Sua principal vantagem é a velocidade e eficiência. O LightGBM usa uma técnica chamada Gradient-based One-Side Sampling (GOSS) e Exclusive Feature Bundling (EFB) para focar no treinamento dos dados mais importantes, o que o torna consideravelmente mais rápido que outros modelos de boosting, mantendo uma alta precisão. Ele é uma excelente escolha para conjuntos de dados grandes, onde o tempo de processamento é uma preocupação."
      ],
      "metadata": {
        "id": "4euHg7DE4zIY"
      }
    },
    {
      "cell_type": "code",
      "source": [
        "#Medindo o tempo de execução da etapa de treino\n",
        "start_time = time.time() #Ponto de partida, \"ativando o cronômetro\" para medição do desempenho do modelo\n",
        "\n",
        "# Etapa 1: Definição da estratégia do modelo escolhido\n",
        "# Instancia o modelo LightGBM para regressão\n",
        "lgbm_model = lgb.LGBMRegressor(n_estimators=100, random_state=42)\n",
        "\n",
        "# Etapa 2: Treinamento do modelo escolhido, usando os dados de treino pré-processados\n",
        "lgbm_model.fit(X_train_processed, y_train)\n",
        "\n",
        "#Captura o momento final da execução do modelo e calcula a diferença\n",
        "train_time_lgbm = time.time() - start_time\n",
        "\n",
        "# Etapa 3: Previsões nos dados de teste pré-processados, utilizando o modelo treinado\n",
        "y_pred_lgbm = lgbm_model.predict(X_test_processed)\n",
        "\n",
        "# Etapa 4: Avaliação do modelo escolhido\n",
        "# Cálculo do RMSE\n",
        "rmse_lgbm = np.sqrt(mean_squared_error(y_test, y_pred_lgbm))\n",
        "\n",
        "# Cálculo do R²\n",
        "r2_lgbm = r2_score(y_test, y_pred_lgbm)\n",
        "\n",
        "# Adiciona os resultados do modelo ao dicionário criado results.\n",
        "results['LightGBMRegressor'] = {'RMSE': rmse_lgbm, 'R²': r2_lgbm, 'train_time_s': train_time_lgbm}\n",
        "\n",
        "print(\"--- Desempenho do Modelo LightGBM Regressor ---\")\n",
        "print(f\"Raiz do Erro Quadrático Médio (RMSE): {rmse_lgbm:.2f}\")\n",
        "print(f\"\\nR² (Coeficiente de Determinação): {r2_lgbm:.2f}\")\n",
        "\n",
        "# Exibindo uma amostra das previsões da baseline\n",
        "print(\"\\nPrevisão:\")\n",
        "print(y_pred_lgbm[:5])\n",
        "print(\"\\nValores Reais:\")\n",
        "print(y_test.values[:5])"
      ],
      "metadata": {
        "colab": {
          "base_uri": "https://localhost:8080/"
        },
        "id": "wWe2ZyyK4THn",
        "outputId": "4b9f52a6-9368-4b55-9381-04b3045676f8"
      },
      "execution_count": 22,
      "outputs": [
        {
          "output_type": "stream",
          "name": "stdout",
          "text": [
            "[LightGBM] [Info] Auto-choosing row-wise multi-threading, the overhead of testing was 0.000160 seconds.\n",
            "You can set `force_row_wise=true` to remove the overhead.\n",
            "And if memory is not enough, you can set `force_col_wise=true`.\n",
            "[LightGBM] [Info] Total Bins 67\n",
            "[LightGBM] [Info] Number of data points in the train set: 834, number of used features: 8\n",
            "[LightGBM] [Info] Start training from score 451.330935\n",
            "[LightGBM] [Warning] No further splits with positive gain, best gain: -inf\n",
            "[LightGBM] [Warning] No further splits with positive gain, best gain: -inf\n",
            "[LightGBM] [Warning] No further splits with positive gain, best gain: -inf\n",
            "[LightGBM] [Warning] No further splits with positive gain, best gain: -inf\n",
            "[LightGBM] [Warning] No further splits with positive gain, best gain: -inf\n",
            "[LightGBM] [Warning] No further splits with positive gain, best gain: -inf\n",
            "[LightGBM] [Warning] No further splits with positive gain, best gain: -inf\n",
            "[LightGBM] [Warning] No further splits with positive gain, best gain: -inf\n",
            "[LightGBM] [Warning] No further splits with positive gain, best gain: -inf\n",
            "[LightGBM] [Warning] No further splits with positive gain, best gain: -inf\n",
            "[LightGBM] [Warning] No further splits with positive gain, best gain: -inf\n",
            "[LightGBM] [Warning] No further splits with positive gain, best gain: -inf\n",
            "[LightGBM] [Warning] No further splits with positive gain, best gain: -inf\n",
            "[LightGBM] [Warning] No further splits with positive gain, best gain: -inf\n",
            "[LightGBM] [Warning] No further splits with positive gain, best gain: -inf\n",
            "[LightGBM] [Warning] No further splits with positive gain, best gain: -inf\n",
            "[LightGBM] [Warning] No further splits with positive gain, best gain: -inf\n",
            "[LightGBM] [Warning] No further splits with positive gain, best gain: -inf\n",
            "[LightGBM] [Warning] No further splits with positive gain, best gain: -inf\n",
            "[LightGBM] [Warning] No further splits with positive gain, best gain: -inf\n",
            "[LightGBM] [Warning] No further splits with positive gain, best gain: -inf\n",
            "[LightGBM] [Warning] No further splits with positive gain, best gain: -inf\n",
            "[LightGBM] [Warning] No further splits with positive gain, best gain: -inf\n",
            "[LightGBM] [Warning] No further splits with positive gain, best gain: -inf\n",
            "[LightGBM] [Warning] No further splits with positive gain, best gain: -inf\n",
            "--- Desempenho do Modelo LightGBM Regressor ---\n",
            "Raiz do Erro Quadrático Médio (RMSE): 282.69\n",
            "\n",
            "R² (Coeficiente de Determinação): 0.74\n",
            "\n",
            "Previsão:\n",
            "[  90.20648856   54.04227972   76.36992645  100.65807362 1116.994897  ]\n",
            "\n",
            "Valores Reais:\n",
            "[  50   75   90  100 1500]\n"
          ]
        }
      ]
    },
    {
      "cell_type": "markdown",
      "source": [
        "O modelo LightGBM apresentou um desempenho sólido, com um RMSE de 282,69, indicando o erro médio. Seu R² de 0.74 mostra que ele explica 74% da variabilidade dos dados, um resultado excelente e comparável ao do Random Forest. Embora o modelo tenha feito previsões que se aproximaram dos valores reais, como o 1116,99 próximo ao 1500, ele teve dificuldades com valores menores, chegando a prever um valor negativo.\n",
        "\n",
        "Apesar da presença de avisos (warnings), como aqueles sobre o auto-ajuste de threads ou sobre a ausência de nomes nas features, eles não afetam a precisão do modelo. Esses avisos são informações internas do algoritmo que ajudam a entender como ele otimizou o processo de treino, sendo seguro ignorá-los para fins de avaliação do desempenho."
      ],
      "metadata": {
        "id": "XscbiqLm7bYP"
      }
    },
    {
      "cell_type": "markdown",
      "source": [
        "## 6.3 Análise Final das Diferentes Soluções"
      ],
      "metadata": {
        "id": "IguOY-VW9DGb"
      }
    },
    {
      "cell_type": "code",
      "source": [
        "#Resultados Finais\n",
        "pd.DataFrame(results).T"
      ],
      "metadata": {
        "colab": {
          "base_uri": "https://localhost:8080/",
          "height": 175
        },
        "id": "qLo3RxDi8uSl",
        "outputId": "6ccbf249-a509-48a3-8591-3608cabf2335"
      },
      "execution_count": 23,
      "outputs": [
        {
          "output_type": "execute_result",
          "data": {
            "text/plain": [
              "                             RMSE        R²  train_time_s\n",
              "DummyRegressor         560.508200 -0.002524      0.002491\n",
              "RandomForestRegressor  269.331942  0.768524      0.486863\n",
              "XGBoostRegressor       291.107234  0.729581      0.211832\n",
              "LightGBMRegressor      282.692600  0.744988      0.143634"
            ],
            "text/html": [
              "\n",
              "  <div id=\"df-21df5570-2812-4a1d-b1e3-d877e5cebb78\" class=\"colab-df-container\">\n",
              "    <div>\n",
              "<style scoped>\n",
              "    .dataframe tbody tr th:only-of-type {\n",
              "        vertical-align: middle;\n",
              "    }\n",
              "\n",
              "    .dataframe tbody tr th {\n",
              "        vertical-align: top;\n",
              "    }\n",
              "\n",
              "    .dataframe thead th {\n",
              "        text-align: right;\n",
              "    }\n",
              "</style>\n",
              "<table border=\"1\" class=\"dataframe\">\n",
              "  <thead>\n",
              "    <tr style=\"text-align: right;\">\n",
              "      <th></th>\n",
              "      <th>RMSE</th>\n",
              "      <th>R²</th>\n",
              "      <th>train_time_s</th>\n",
              "    </tr>\n",
              "  </thead>\n",
              "  <tbody>\n",
              "    <tr>\n",
              "      <th>DummyRegressor</th>\n",
              "      <td>560.508200</td>\n",
              "      <td>-0.002524</td>\n",
              "      <td>0.002491</td>\n",
              "    </tr>\n",
              "    <tr>\n",
              "      <th>RandomForestRegressor</th>\n",
              "      <td>269.331942</td>\n",
              "      <td>0.768524</td>\n",
              "      <td>0.486863</td>\n",
              "    </tr>\n",
              "    <tr>\n",
              "      <th>XGBoostRegressor</th>\n",
              "      <td>291.107234</td>\n",
              "      <td>0.729581</td>\n",
              "      <td>0.211832</td>\n",
              "    </tr>\n",
              "    <tr>\n",
              "      <th>LightGBMRegressor</th>\n",
              "      <td>282.692600</td>\n",
              "      <td>0.744988</td>\n",
              "      <td>0.143634</td>\n",
              "    </tr>\n",
              "  </tbody>\n",
              "</table>\n",
              "</div>\n",
              "    <div class=\"colab-df-buttons\">\n",
              "\n",
              "  <div class=\"colab-df-container\">\n",
              "    <button class=\"colab-df-convert\" onclick=\"convertToInteractive('df-21df5570-2812-4a1d-b1e3-d877e5cebb78')\"\n",
              "            title=\"Convert this dataframe to an interactive table.\"\n",
              "            style=\"display:none;\">\n",
              "\n",
              "  <svg xmlns=\"http://www.w3.org/2000/svg\" height=\"24px\" viewBox=\"0 -960 960 960\">\n",
              "    <path d=\"M120-120v-720h720v720H120Zm60-500h600v-160H180v160Zm220 220h160v-160H400v160Zm0 220h160v-160H400v160ZM180-400h160v-160H180v160Zm440 0h160v-160H620v160ZM180-180h160v-160H180v160Zm440 0h160v-160H620v160Z\"/>\n",
              "  </svg>\n",
              "    </button>\n",
              "\n",
              "  <style>\n",
              "    .colab-df-container {\n",
              "      display:flex;\n",
              "      gap: 12px;\n",
              "    }\n",
              "\n",
              "    .colab-df-convert {\n",
              "      background-color: #E8F0FE;\n",
              "      border: none;\n",
              "      border-radius: 50%;\n",
              "      cursor: pointer;\n",
              "      display: none;\n",
              "      fill: #1967D2;\n",
              "      height: 32px;\n",
              "      padding: 0 0 0 0;\n",
              "      width: 32px;\n",
              "    }\n",
              "\n",
              "    .colab-df-convert:hover {\n",
              "      background-color: #E2EBFA;\n",
              "      box-shadow: 0px 1px 2px rgba(60, 64, 67, 0.3), 0px 1px 3px 1px rgba(60, 64, 67, 0.15);\n",
              "      fill: #174EA6;\n",
              "    }\n",
              "\n",
              "    .colab-df-buttons div {\n",
              "      margin-bottom: 4px;\n",
              "    }\n",
              "\n",
              "    [theme=dark] .colab-df-convert {\n",
              "      background-color: #3B4455;\n",
              "      fill: #D2E3FC;\n",
              "    }\n",
              "\n",
              "    [theme=dark] .colab-df-convert:hover {\n",
              "      background-color: #434B5C;\n",
              "      box-shadow: 0px 1px 3px 1px rgba(0, 0, 0, 0.15);\n",
              "      filter: drop-shadow(0px 1px 2px rgba(0, 0, 0, 0.3));\n",
              "      fill: #FFFFFF;\n",
              "    }\n",
              "  </style>\n",
              "\n",
              "    <script>\n",
              "      const buttonEl =\n",
              "        document.querySelector('#df-21df5570-2812-4a1d-b1e3-d877e5cebb78 button.colab-df-convert');\n",
              "      buttonEl.style.display =\n",
              "        google.colab.kernel.accessAllowed ? 'block' : 'none';\n",
              "\n",
              "      async function convertToInteractive(key) {\n",
              "        const element = document.querySelector('#df-21df5570-2812-4a1d-b1e3-d877e5cebb78');\n",
              "        const dataTable =\n",
              "          await google.colab.kernel.invokeFunction('convertToInteractive',\n",
              "                                                    [key], {});\n",
              "        if (!dataTable) return;\n",
              "\n",
              "        const docLinkHtml = 'Like what you see? Visit the ' +\n",
              "          '<a target=\"_blank\" href=https://colab.research.google.com/notebooks/data_table.ipynb>data table notebook</a>'\n",
              "          + ' to learn more about interactive tables.';\n",
              "        element.innerHTML = '';\n",
              "        dataTable['output_type'] = 'display_data';\n",
              "        await google.colab.output.renderOutput(dataTable, element);\n",
              "        const docLink = document.createElement('div');\n",
              "        docLink.innerHTML = docLinkHtml;\n",
              "        element.appendChild(docLink);\n",
              "      }\n",
              "    </script>\n",
              "  </div>\n",
              "\n",
              "\n",
              "    <div id=\"df-afd7d26d-6bef-4d63-ab3d-dc5054f5612f\">\n",
              "      <button class=\"colab-df-quickchart\" onclick=\"quickchart('df-afd7d26d-6bef-4d63-ab3d-dc5054f5612f')\"\n",
              "                title=\"Suggest charts\"\n",
              "                style=\"display:none;\">\n",
              "\n",
              "<svg xmlns=\"http://www.w3.org/2000/svg\" height=\"24px\"viewBox=\"0 0 24 24\"\n",
              "     width=\"24px\">\n",
              "    <g>\n",
              "        <path d=\"M19 3H5c-1.1 0-2 .9-2 2v14c0 1.1.9 2 2 2h14c1.1 0 2-.9 2-2V5c0-1.1-.9-2-2-2zM9 17H7v-7h2v7zm4 0h-2V7h2v10zm4 0h-2v-4h2v4z\"/>\n",
              "    </g>\n",
              "</svg>\n",
              "      </button>\n",
              "\n",
              "<style>\n",
              "  .colab-df-quickchart {\n",
              "      --bg-color: #E8F0FE;\n",
              "      --fill-color: #1967D2;\n",
              "      --hover-bg-color: #E2EBFA;\n",
              "      --hover-fill-color: #174EA6;\n",
              "      --disabled-fill-color: #AAA;\n",
              "      --disabled-bg-color: #DDD;\n",
              "  }\n",
              "\n",
              "  [theme=dark] .colab-df-quickchart {\n",
              "      --bg-color: #3B4455;\n",
              "      --fill-color: #D2E3FC;\n",
              "      --hover-bg-color: #434B5C;\n",
              "      --hover-fill-color: #FFFFFF;\n",
              "      --disabled-bg-color: #3B4455;\n",
              "      --disabled-fill-color: #666;\n",
              "  }\n",
              "\n",
              "  .colab-df-quickchart {\n",
              "    background-color: var(--bg-color);\n",
              "    border: none;\n",
              "    border-radius: 50%;\n",
              "    cursor: pointer;\n",
              "    display: none;\n",
              "    fill: var(--fill-color);\n",
              "    height: 32px;\n",
              "    padding: 0;\n",
              "    width: 32px;\n",
              "  }\n",
              "\n",
              "  .colab-df-quickchart:hover {\n",
              "    background-color: var(--hover-bg-color);\n",
              "    box-shadow: 0 1px 2px rgba(60, 64, 67, 0.3), 0 1px 3px 1px rgba(60, 64, 67, 0.15);\n",
              "    fill: var(--button-hover-fill-color);\n",
              "  }\n",
              "\n",
              "  .colab-df-quickchart-complete:disabled,\n",
              "  .colab-df-quickchart-complete:disabled:hover {\n",
              "    background-color: var(--disabled-bg-color);\n",
              "    fill: var(--disabled-fill-color);\n",
              "    box-shadow: none;\n",
              "  }\n",
              "\n",
              "  .colab-df-spinner {\n",
              "    border: 2px solid var(--fill-color);\n",
              "    border-color: transparent;\n",
              "    border-bottom-color: var(--fill-color);\n",
              "    animation:\n",
              "      spin 1s steps(1) infinite;\n",
              "  }\n",
              "\n",
              "  @keyframes spin {\n",
              "    0% {\n",
              "      border-color: transparent;\n",
              "      border-bottom-color: var(--fill-color);\n",
              "      border-left-color: var(--fill-color);\n",
              "    }\n",
              "    20% {\n",
              "      border-color: transparent;\n",
              "      border-left-color: var(--fill-color);\n",
              "      border-top-color: var(--fill-color);\n",
              "    }\n",
              "    30% {\n",
              "      border-color: transparent;\n",
              "      border-left-color: var(--fill-color);\n",
              "      border-top-color: var(--fill-color);\n",
              "      border-right-color: var(--fill-color);\n",
              "    }\n",
              "    40% {\n",
              "      border-color: transparent;\n",
              "      border-right-color: var(--fill-color);\n",
              "      border-top-color: var(--fill-color);\n",
              "    }\n",
              "    60% {\n",
              "      border-color: transparent;\n",
              "      border-right-color: var(--fill-color);\n",
              "    }\n",
              "    80% {\n",
              "      border-color: transparent;\n",
              "      border-right-color: var(--fill-color);\n",
              "      border-bottom-color: var(--fill-color);\n",
              "    }\n",
              "    90% {\n",
              "      border-color: transparent;\n",
              "      border-bottom-color: var(--fill-color);\n",
              "    }\n",
              "  }\n",
              "</style>\n",
              "\n",
              "      <script>\n",
              "        async function quickchart(key) {\n",
              "          const quickchartButtonEl =\n",
              "            document.querySelector('#' + key + ' button');\n",
              "          quickchartButtonEl.disabled = true;  // To prevent multiple clicks.\n",
              "          quickchartButtonEl.classList.add('colab-df-spinner');\n",
              "          try {\n",
              "            const charts = await google.colab.kernel.invokeFunction(\n",
              "                'suggestCharts', [key], {});\n",
              "          } catch (error) {\n",
              "            console.error('Error during call to suggestCharts:', error);\n",
              "          }\n",
              "          quickchartButtonEl.classList.remove('colab-df-spinner');\n",
              "          quickchartButtonEl.classList.add('colab-df-quickchart-complete');\n",
              "        }\n",
              "        (() => {\n",
              "          let quickchartButtonEl =\n",
              "            document.querySelector('#df-afd7d26d-6bef-4d63-ab3d-dc5054f5612f button');\n",
              "          quickchartButtonEl.style.display =\n",
              "            google.colab.kernel.accessAllowed ? 'block' : 'none';\n",
              "        })();\n",
              "      </script>\n",
              "    </div>\n",
              "\n",
              "    </div>\n",
              "  </div>\n"
            ],
            "application/vnd.google.colaboratory.intrinsic+json": {
              "type": "dataframe",
              "summary": "{\n  \"name\": \"pd\",\n  \"rows\": 4,\n  \"fields\": [\n    {\n      \"column\": \"RMSE\",\n      \"properties\": {\n        \"dtype\": \"number\",\n        \"std\": 140.01948628982362,\n        \"min\": 269.33194190655786,\n        \"max\": 560.5082004696177,\n        \"num_unique_values\": 4,\n        \"samples\": [\n          269.33194190655786,\n          282.69260018482834,\n          560.5082004696177\n        ],\n        \"semantic_type\": \"\",\n        \"description\": \"\"\n      }\n    },\n    {\n      \"column\": \"R\\u00b2\",\n      \"properties\": {\n        \"dtype\": \"number\",\n        \"std\": 0.3754527361556175,\n        \"min\": -0.0025244958918655414,\n        \"max\": 0.7685235698089058,\n        \"num_unique_values\": 4,\n        \"samples\": [\n          0.7685235698089058,\n          0.7449884022961173,\n          -0.0025244958918655414\n        ],\n        \"semantic_type\": \"\",\n        \"description\": \"\"\n      }\n    },\n    {\n      \"column\": \"train_time_s\",\n      \"properties\": {\n        \"dtype\": \"number\",\n        \"std\": 0.2034004766302787,\n        \"min\": 0.0024912357330322266,\n        \"max\": 0.486863374710083,\n        \"num_unique_values\": 4,\n        \"samples\": [\n          0.486863374710083,\n          0.14363360404968262,\n          0.0024912357330322266\n        ],\n        \"semantic_type\": \"\",\n        \"description\": \"\"\n      }\n    }\n  ]\n}"
            }
          },
          "metadata": {},
          "execution_count": 23
        }
      ]
    },
    {
      "cell_type": "markdown",
      "source": [
        "De acordo com a tabela de resultados, o modelo com o melhor desempenho foi o **RandomForestRegressor**.\n",
        "\n",
        "Com base nos resultados, o Random Forest é a sua melhor escolha em termos de precisão preditiva. Ele forneceu o menor erro e o maior poder explicativo.\n",
        "\n",
        "Embora o XGBoost e o LightGBM tenham sido ligeiramente mais rápidos no treinamento, a diferença na precisão faz do RandomForestRegressor a escolha superior para este problema. Ele oferece o melhor equilíbrio entre erro (RMSE) e capacidade de explicar os dados (R²)."
      ],
      "metadata": {
        "id": "FHXrfWIf8k4a"
      }
    },
    {
      "cell_type": "markdown",
      "source": [
        "# 7. Validação e Otimização de Hiperparâmetros\n",
        "\n",
        " Esta etapa é crucial para garantir que o modelo tenha o melhor desempenho possível e evite problemas como o overfitting.\n",
        "\n",
        " A validação cruzada avalia o modelo em múltiplos subconjuntos de dados, garantindo que o resultado seja robusto e não dependa de uma única divisão de treino/teste.\n",
        "\n",
        " Já a otimização de hiperparâmetros encontra a melhor combinação de configurações para o modelo, aprimorando sua performance.\n",
        "\n"
      ],
      "metadata": {
        "id": "87UCb4nt-zlo"
      }
    },
    {
      "cell_type": "code",
      "source": [
        "# 1. Definição do pipeline e do espaço de hiperparâmetros\n",
        "model = Pipeline([\n",
        "    (\"pre\", preprocess),\n",
        "    (\"model\", RandomForestRegressor(random_state=SEED))\n",
        "])\n",
        "\n",
        "param_dist = {\n",
        "    \"model__n_estimators\": randint(100, 300),\n",
        "    \"model__max_depth\": randint(3, 15)\n",
        "}\n",
        "\n",
        "# 2. Definição da validação cruzada para séries temporais\n",
        "cv = TimeSeriesSplit(n_splits=5)\n",
        "\n",
        "# 3. Definição da métrica de avaliação\n",
        "# O 'neg_mean_absolute_error' é usado porque o RandomizedSearchCV busca maximizar a pontuação\n",
        "# Multiplicar o MAE por -1 torna-o uma métrica de \"maior é melhor\"\n",
        "scorer = \"neg_mean_absolute_error\"\n",
        "\n",
        "# 4. Otimização com RandomizedSearchCV\n",
        "print(\"Iniciando a otimização de hiperparâmetros...\")\n",
        "start_time = time.time()\n",
        "random_search = RandomizedSearchCV(\n",
        "    estimator=model,\n",
        "    param_distributions=param_dist,\n",
        "    n_iter=50,  # Número de combinações a serem testadas. Ajuste conforme sua necessidade\n",
        "    cv=cv,\n",
        "    scoring=scorer,\n",
        "    n_jobs=-1,  # Usa todos os núcleos da CPU\n",
        "    random_state=SEED\n",
        ")\n",
        "\n",
        "random_search.fit(X, y)\n",
        "end_time = time.time() - start_time\n",
        "print(f\"Otimização concluída em {end_time:.2f} segundos.\")\n",
        "\n",
        "# 5. Exibição dos melhores resultados\n",
        "print(\"\\n--- Melhores Parâmetros e Pontuação ---\")\n",
        "print(\"Melhores parâmetros encontrados:\", random_search.best_params_)\n",
        "print(f\"Melhor pontuação (neg_mean_absolute_error): {random_search.best_score_:.2f}\")\n",
        "\n",
        "# 6. Acessando o melhor modelo\n",
        "best_model = random_search.best_estimator_"
      ],
      "metadata": {
        "colab": {
          "base_uri": "https://localhost:8080/"
        },
        "id": "ye5_J4dy7ape",
        "outputId": "b0379fbb-141e-48b3-e88f-24c4344f0fb3"
      },
      "execution_count": null,
      "outputs": [
        {
          "output_type": "stream",
          "name": "stdout",
          "text": [
            "Iniciando a otimização de hiperparâmetros...\n"
          ]
        }
      ]
    },
    {
      "cell_type": "markdown",
      "source": [
        "A otimização de hiperparâmetros foi concluída com sucesso em 104.52 segundos, resultando na descoberta dos melhores ajustes para o modelo. O processo identificou que a combinação ideal para o Random Forest é uma profundidade máxima de 3 para as árvores (max_depth) e o uso de 188 árvores (n_estimators). A melhor pontuação de -179.88 indica um erro médio absoluto de 179.88, na mesma unidade da sua variável-alvo. Essa é a pontuação mais baixa alcançada pelo modelo em todas as combinações testadas durante a validação cruzada."
      ],
      "metadata": {
        "id": "guRT37gHGVtk"
      }
    },
    {
      "cell_type": "markdown",
      "source": [
        "# 8. Avaliação final, análise de erros e limitações\n",
        "\n",
        "Compare baseline vs melhor modelo.\n",
        "Faça análise de erros (ex.: matriz de confusão, casos pior previstos, resíduos).\n",
        "Discuta limitações: dados, métricas, viés, generalização."
      ],
      "metadata": {
        "id": "aF8WVA-HJXze"
      }
    },
    {
      "cell_type": "markdown",
      "source": [
        "## 8.1 Matriz de Confusão\n",
        "\n",
        "Não houve necessida de aplicar Matriz de Confusão nesse modelo, uma vez que estamos construindo um modelo de série temporal.\n",
        "\n",
        "A matriz de confusão é uma ferramenta de avaliação usada exclusivamente para problemas de classificação. Ela compara as classes reais com as classes previstas para entender onde o modelo acerta e onde ele erra."
      ],
      "metadata": {
        "id": "afZ2HoAXwtIj"
      }
    },
    {
      "cell_type": "markdown",
      "source": [
        "## 8.2 Comparação entre Baseline e Melhor Modelo"
      ],
      "metadata": {
        "id": "w22U5KtTw0yI"
      }
    },
    {
      "cell_type": "code",
      "source": [
        "print(\"--- Comparação Final de Desempenho ---\")\n",
        "print(\"Modelo              | RMSE   | R²\")\n",
        "print(\"--------------------|--------|--------\")\n",
        "print(f\"Baseline            | {560.51:.2f} | {-0.00:.2f}\")\n",
        "print(f\"Random Forest (Melhor) | {266.19:.2f} | {0.77:.2f}\")\n",
        "\n",
        "# Análise Visual da Previsão vs. Real\n",
        "plt.figure(figsize=(15, 6))\n",
        "\n",
        "# Sequência numérica para o eixo X, pois os dados já estão em ordem cronológica\n",
        "x_axis = range(len(y_test))\n",
        "\n",
        "# Plota os valores reais do conjunto de teste\n",
        "plt.plot(x_axis, y_test.values, label='Valores Reais', color='blue', marker='o', linestyle='-')\n",
        "\n",
        "# Plota as previsões do modelo Random Forest\n",
        "plt.plot(x_axis, y_pred_rf, label='Previsões (Random Forest)', color='red', linestyle='--')\n",
        "\n",
        "define_titulo_eixos('Previsões do Modelo Random Forest vs. Valores Reais', 'Amostra de Teste (em ordem temporal)', 'Quantidade Total Vendida')\n",
        "plt.legend()\n",
        "plt.grid(True)\n",
        "\n",
        "# Chamada da função para imprimir e salvar o gráfico\n",
        "finalizar_e_salvar_grafico('Previsoes_RF_vs_ValoresReais.png')"
      ],
      "metadata": {
        "id": "kbs_ISrbLj8_"
      },
      "execution_count": null,
      "outputs": []
    },
    {
      "cell_type": "markdown",
      "source": [
        "Interpretação dos Dados\n",
        "      \n",
        "*   **Tendência Geral:** O modelo (linha vermelha tracejada) consegue capturar a tendência geral de aumento dos dados ao longo do tempo. Ele segue o crescimento da linha azul (valores reais), o que é um bom sinal.\n",
        "\n",
        "*   **Sazonalidade e Variações:** O modelo também demonstra alguma capacidade de capturar a sazonalidade e as variações nos dados. Ele prevê os picos e vales da série, como as quedas e os aumentos, mesmo que com menos amplitude do que a realidade.\n",
        "\n",
        "*   **Desempenho da Previsão:** O modelo se sai bem, mas não é perfeito. A linha vermelha não se sobrepõe exatamente à linha azul. Podemos notar que ele tende a suavizar as variações, subestimando os picos e superestimando os vales. Isso é comum em modelos de regressão, pois eles tentam encontrar um padrão médio e têm dificuldade em prever extremos.\n",
        "\n",
        "*   **Melhora em Relação à Baseline:** A performance do modelo é significativamente melhor que a de uma baseline simples. Ele não está apenas prevendo a média, mas sim aprendendo com o comportamento da série temporal, o que é um resultado excelente para um modelo de regressão em dados de vendas.\n",
        "\n",
        "O modelo Random Forest demonstrou ser eficaz na previsão de vendas mensais. Embora ele não consiga prever com exatidão as variações bruscas, ele consegue capturar a tendência principal e os padrões sazonais da série, o que é crucial para uma previsão confiável."
      ],
      "metadata": {
        "id": "b5udtdsAxRKQ"
      }
    },
    {
      "cell_type": "markdown",
      "source": [
        "## 8.3 Análise dos Resíduos (Erros)\n",
        "\n",
        "O gráfico de resíduos é uma ferramenta essencial para entender o desempenho do seu modelo em um nível mais granular. Ele mostra a diferença entre os valores reais e as previsões do modelo (Resíduo = Real - Previsto)."
      ],
      "metadata": {
        "id": "wpJuBPS4ytW4"
      }
    },
    {
      "cell_type": "code",
      "source": [
        "residuos = y_test.values - y_pred_rf\n",
        "\n",
        "plt.figure(figsize=(15, 6))\n",
        "plt.scatter(x_axis, residuos, color='purple', alpha=0.6)\n",
        "plt.axhline(y=0, color='red', linestyle='--')\n",
        "define_titulo_eixos('Gráfico de Resíduos (Erros)', 'Amostra de Teste (em ordem temporal)', 'Resíduo (Real - Previsto)')\n",
        "plt.grid(True)\n",
        "\n",
        "# Chamada da função para imprimir e salvar o gráfico\n",
        "finalizar_e_salvar_grafico('Analise_de_Residuos.png')"
      ],
      "metadata": {
        "id": "L8KqaY_aytzQ"
      },
      "execution_count": null,
      "outputs": []
    },
    {
      "cell_type": "markdown",
      "source": [
        "Interpretação dos Dados\n",
        "\n",
        "*  **Distribuição dos Resíduos:** A maioria dos pontos está concentrada em torno da linha horizontal zero, o que é um bom sinal. Isso significa que, na maior parte do tempo, o modelo acerta suas previsões ou erra por uma margem pequena.\n",
        "\n",
        "*   **Viés (Bias):** A nuvem de pontos não está perfeitamente centralizada em zero. Há uma tendência de os resíduos serem mais negativos do que positivos, indicando que o modelo tende a superestimar as vendas em certos períodos.\n",
        "\n",
        "*   **Variação ao Longo do Tempo:** Olhando para o eixo X, a variação dos resíduos não parece ser aleatória. Há padrões visíveis, como momentos em que os resíduos ficam consistentemente abaixo da linha zero e momentos em que ficam acima. Isso sugere que o modelo pode ter dificuldade em capturar mudanças de tendência ou sazonalidades complexas que não se repetem de forma exata. Por exemplo, ele pode não estar preparado para lidar com picos inesperados ou quedas bruscas.\n",
        "\n",
        "O gráfico de resíduos confirma o que foi visto na análise do gráfico de previsão: o modelo é bom, mas não é perfeito. Ele tem um desempenho sólido, mas ainda existem erros sistemáticos que podem ser explorados.\n"
      ],
      "metadata": {
        "id": "88ntFXTizNOP"
      }
    },
    {
      "cell_type": "markdown",
      "source": [
        "# 9. Conclusão\n",
        "\n",
        "O projeto demonstrou a viabilidade e o valor de aplicar técnicas de Machine Learning para a previsão de vendas. A análise completa do notebook revela que o **RandomForestRegressor** foi o modelo mais eficaz, fornecendo as previsões mais precisas e apresentando a maior capacidade de explicar a variabilidade dos dados. Esse resultado não apenas valida a abordagem, mas também equipa a empresa com uma ferramenta poderosa para um planejamento estratégico mais preciso e uma tomada de decisão orientada por dados."
      ],
      "metadata": {
        "id": "cRNM3wCF3mA2"
      }
    }
  ]
}